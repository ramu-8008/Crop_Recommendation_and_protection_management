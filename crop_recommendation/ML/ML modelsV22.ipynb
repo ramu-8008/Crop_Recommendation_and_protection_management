{
 "cells": [
  {
   "cell_type": "code",
   "execution_count": 88,
   "id": "38479eb7",
   "metadata": {},
   "outputs": [],
   "source": [
    "import numpy as np\n",
    "import pandas as pd\n",
    "import math\n",
    "import seaborn as sns\n",
    "import matplotlib.pyplot as plt\n",
    "from sklearn.model_selection import train_test_split\n",
    "from sklearn.linear_model import LogisticRegression\n",
    "from sklearn.svm import SVC\n",
    "from sklearn.tree import DecisionTreeClassifier\n",
    "from sklearn.neighbors import KNeighborsClassifier\n",
    "from sklearn.naive_bayes import GaussianNB\n",
    "from sklearn.ensemble import RandomForestClassifier,VotingClassifier\n",
    "from sklearn.ensemble import AdaBoostClassifier,GradientBoostingClassifier\n",
    "from sklearn.ensemble import BaggingClassifier\n",
    "from sklearn.metrics import accuracy_score\n",
    "from sklearn.preprocessing import StandardScaler,MinMaxScaler"
   ]
  },
  {
   "cell_type": "code",
   "execution_count": 89,
   "id": "5ee88a46",
   "metadata": {},
   "outputs": [],
   "source": [
    "import warnings\n",
    "warnings.filterwarnings('ignore')"
   ]
  },
  {
   "cell_type": "code",
   "execution_count": 93,
   "id": "71a34f75",
   "metadata": {},
   "outputs": [
    {
     "data": {
      "text/html": [
       "<div>\n",
       "<style scoped>\n",
       "    .dataframe tbody tr th:only-of-type {\n",
       "        vertical-align: middle;\n",
       "    }\n",
       "\n",
       "    .dataframe tbody tr th {\n",
       "        vertical-align: top;\n",
       "    }\n",
       "\n",
       "    .dataframe thead th {\n",
       "        text-align: right;\n",
       "    }\n",
       "</style>\n",
       "<table border=\"1\" class=\"dataframe\">\n",
       "  <thead>\n",
       "    <tr style=\"text-align: right;\">\n",
       "      <th></th>\n",
       "      <th>Unnamed: 0</th>\n",
       "      <th>State_Name</th>\n",
       "      <th>Crop_Type</th>\n",
       "      <th>Crop</th>\n",
       "      <th>N</th>\n",
       "      <th>P</th>\n",
       "      <th>K</th>\n",
       "      <th>pH</th>\n",
       "      <th>rainfall</th>\n",
       "      <th>temperature</th>\n",
       "      <th>Area_in_hectares</th>\n",
       "      <th>Production_in_tons</th>\n",
       "      <th>Yield_ton_per_hec</th>\n",
       "    </tr>\n",
       "  </thead>\n",
       "  <tbody>\n",
       "    <tr>\n",
       "      <th>0</th>\n",
       "      <td>0</td>\n",
       "      <td>andhra pradesh</td>\n",
       "      <td>kharif</td>\n",
       "      <td>cotton</td>\n",
       "      <td>120</td>\n",
       "      <td>40</td>\n",
       "      <td>20</td>\n",
       "      <td>5.46</td>\n",
       "      <td>654.34</td>\n",
       "      <td>29.266667</td>\n",
       "      <td>7300.0</td>\n",
       "      <td>9400.0</td>\n",
       "      <td>1.287671</td>\n",
       "    </tr>\n",
       "    <tr>\n",
       "      <th>1</th>\n",
       "      <td>1</td>\n",
       "      <td>andhra pradesh</td>\n",
       "      <td>kharif</td>\n",
       "      <td>horsegram</td>\n",
       "      <td>20</td>\n",
       "      <td>60</td>\n",
       "      <td>20</td>\n",
       "      <td>6.18</td>\n",
       "      <td>654.34</td>\n",
       "      <td>29.266667</td>\n",
       "      <td>3300.0</td>\n",
       "      <td>1000.0</td>\n",
       "      <td>0.303030</td>\n",
       "    </tr>\n",
       "    <tr>\n",
       "      <th>2</th>\n",
       "      <td>2</td>\n",
       "      <td>andhra pradesh</td>\n",
       "      <td>kharif</td>\n",
       "      <td>jowar</td>\n",
       "      <td>80</td>\n",
       "      <td>40</td>\n",
       "      <td>40</td>\n",
       "      <td>5.42</td>\n",
       "      <td>654.34</td>\n",
       "      <td>29.266667</td>\n",
       "      <td>10100.0</td>\n",
       "      <td>10200.0</td>\n",
       "      <td>1.009901</td>\n",
       "    </tr>\n",
       "    <tr>\n",
       "      <th>3</th>\n",
       "      <td>3</td>\n",
       "      <td>andhra pradesh</td>\n",
       "      <td>kharif</td>\n",
       "      <td>maize</td>\n",
       "      <td>80</td>\n",
       "      <td>40</td>\n",
       "      <td>20</td>\n",
       "      <td>5.62</td>\n",
       "      <td>654.34</td>\n",
       "      <td>29.266667</td>\n",
       "      <td>2800.0</td>\n",
       "      <td>4900.0</td>\n",
       "      <td>1.750000</td>\n",
       "    </tr>\n",
       "    <tr>\n",
       "      <th>4</th>\n",
       "      <td>4</td>\n",
       "      <td>andhra pradesh</td>\n",
       "      <td>kharif</td>\n",
       "      <td>moong</td>\n",
       "      <td>20</td>\n",
       "      <td>40</td>\n",
       "      <td>20</td>\n",
       "      <td>5.68</td>\n",
       "      <td>654.34</td>\n",
       "      <td>29.266667</td>\n",
       "      <td>1300.0</td>\n",
       "      <td>500.0</td>\n",
       "      <td>0.384615</td>\n",
       "    </tr>\n",
       "  </tbody>\n",
       "</table>\n",
       "</div>"
      ],
      "text/plain": [
       "   Unnamed: 0      State_Name Crop_Type       Crop    N   P   K    pH  \\\n",
       "0           0  andhra pradesh    kharif     cotton  120  40  20  5.46   \n",
       "1           1  andhra pradesh    kharif  horsegram   20  60  20  6.18   \n",
       "2           2  andhra pradesh    kharif      jowar   80  40  40  5.42   \n",
       "3           3  andhra pradesh    kharif      maize   80  40  20  5.62   \n",
       "4           4  andhra pradesh    kharif      moong   20  40  20  5.68   \n",
       "\n",
       "   rainfall  temperature  Area_in_hectares  Production_in_tons  \\\n",
       "0    654.34    29.266667            7300.0              9400.0   \n",
       "1    654.34    29.266667            3300.0              1000.0   \n",
       "2    654.34    29.266667           10100.0             10200.0   \n",
       "3    654.34    29.266667            2800.0              4900.0   \n",
       "4    654.34    29.266667            1300.0               500.0   \n",
       "\n",
       "   Yield_ton_per_hec  \n",
       "0           1.287671  \n",
       "1           0.303030  \n",
       "2           1.009901  \n",
       "3           1.750000  \n",
       "4           0.384615  "
      ]
     },
     "execution_count": 93,
     "metadata": {},
     "output_type": "execute_result"
    }
   ],
   "source": [
    "#data = pd.read_csv('C:/Users/RAMU GOPI/AA-Major Project/Data Generation/de_synthetic_data_df_cols_filteredV10.csv')\n",
    "#data = pd.read_csv('C:/Users/RAMU GOPI/AA-Major Project/Data Generation/Crop_recommendation.csv')\n",
    "data = pd.read_csv(\"D:/SEM/7th sem/major project/review-2.0/archive10MB/Crop_production.csv\")\n",
    "data.head(5)"
   ]
  },
  {
   "cell_type": "code",
   "execution_count": 94,
   "id": "feeec344",
   "metadata": {},
   "outputs": [
    {
     "data": {
      "text/plain": [
       "Index(['Unnamed: 0', 'State_Name', 'Crop_Type', 'Crop', 'N', 'P', 'K', 'pH',\n",
       "       'rainfall', 'temperature', 'Area_in_hectares', 'Production_in_tons',\n",
       "       'Yield_ton_per_hec'],\n",
       "      dtype='object')"
      ]
     },
     "execution_count": 94,
     "metadata": {},
     "output_type": "execute_result"
    }
   ],
   "source": [
    "data.columns"
   ]
  },
  {
   "cell_type": "code",
   "execution_count": 95,
   "id": "f6970429",
   "metadata": {},
   "outputs": [
    {
     "data": {
      "text/html": [
       "<div>\n",
       "<style scoped>\n",
       "    .dataframe tbody tr th:only-of-type {\n",
       "        vertical-align: middle;\n",
       "    }\n",
       "\n",
       "    .dataframe tbody tr th {\n",
       "        vertical-align: top;\n",
       "    }\n",
       "\n",
       "    .dataframe thead th {\n",
       "        text-align: right;\n",
       "    }\n",
       "</style>\n",
       "<table border=\"1\" class=\"dataframe\">\n",
       "  <thead>\n",
       "    <tr style=\"text-align: right;\">\n",
       "      <th></th>\n",
       "      <th>State_Name</th>\n",
       "      <th>N</th>\n",
       "      <th>P</th>\n",
       "      <th>K</th>\n",
       "      <th>pH</th>\n",
       "      <th>rainfall</th>\n",
       "      <th>temperature</th>\n",
       "      <th>Crop</th>\n",
       "    </tr>\n",
       "  </thead>\n",
       "  <tbody>\n",
       "    <tr>\n",
       "      <th>0</th>\n",
       "      <td>andhra pradesh</td>\n",
       "      <td>120</td>\n",
       "      <td>40</td>\n",
       "      <td>20</td>\n",
       "      <td>5.46</td>\n",
       "      <td>654.34</td>\n",
       "      <td>29.266667</td>\n",
       "      <td>cotton</td>\n",
       "    </tr>\n",
       "    <tr>\n",
       "      <th>1</th>\n",
       "      <td>andhra pradesh</td>\n",
       "      <td>20</td>\n",
       "      <td>60</td>\n",
       "      <td>20</td>\n",
       "      <td>6.18</td>\n",
       "      <td>654.34</td>\n",
       "      <td>29.266667</td>\n",
       "      <td>horsegram</td>\n",
       "    </tr>\n",
       "    <tr>\n",
       "      <th>2</th>\n",
       "      <td>andhra pradesh</td>\n",
       "      <td>80</td>\n",
       "      <td>40</td>\n",
       "      <td>40</td>\n",
       "      <td>5.42</td>\n",
       "      <td>654.34</td>\n",
       "      <td>29.266667</td>\n",
       "      <td>jowar</td>\n",
       "    </tr>\n",
       "    <tr>\n",
       "      <th>3</th>\n",
       "      <td>andhra pradesh</td>\n",
       "      <td>80</td>\n",
       "      <td>40</td>\n",
       "      <td>20</td>\n",
       "      <td>5.62</td>\n",
       "      <td>654.34</td>\n",
       "      <td>29.266667</td>\n",
       "      <td>maize</td>\n",
       "    </tr>\n",
       "    <tr>\n",
       "      <th>4</th>\n",
       "      <td>andhra pradesh</td>\n",
       "      <td>20</td>\n",
       "      <td>40</td>\n",
       "      <td>20</td>\n",
       "      <td>5.68</td>\n",
       "      <td>654.34</td>\n",
       "      <td>29.266667</td>\n",
       "      <td>moong</td>\n",
       "    </tr>\n",
       "    <tr>\n",
       "      <th>...</th>\n",
       "      <td>...</td>\n",
       "      <td>...</td>\n",
       "      <td>...</td>\n",
       "      <td>...</td>\n",
       "      <td>...</td>\n",
       "      <td>...</td>\n",
       "      <td>...</td>\n",
       "      <td>...</td>\n",
       "    </tr>\n",
       "    <tr>\n",
       "      <th>99844</th>\n",
       "      <td>west bengal</td>\n",
       "      <td>60</td>\n",
       "      <td>30</td>\n",
       "      <td>30</td>\n",
       "      <td>6.70</td>\n",
       "      <td>152.54</td>\n",
       "      <td>22.280000</td>\n",
       "      <td>wheat</td>\n",
       "    </tr>\n",
       "    <tr>\n",
       "      <th>99845</th>\n",
       "      <td>west bengal</td>\n",
       "      <td>80</td>\n",
       "      <td>40</td>\n",
       "      <td>20</td>\n",
       "      <td>5.68</td>\n",
       "      <td>182.50</td>\n",
       "      <td>29.200000</td>\n",
       "      <td>maize</td>\n",
       "    </tr>\n",
       "    <tr>\n",
       "      <th>99846</th>\n",
       "      <td>west bengal</td>\n",
       "      <td>80</td>\n",
       "      <td>40</td>\n",
       "      <td>40</td>\n",
       "      <td>5.64</td>\n",
       "      <td>182.50</td>\n",
       "      <td>29.200000</td>\n",
       "      <td>rice</td>\n",
       "    </tr>\n",
       "    <tr>\n",
       "      <th>99847</th>\n",
       "      <td>west bengal</td>\n",
       "      <td>80</td>\n",
       "      <td>40</td>\n",
       "      <td>40</td>\n",
       "      <td>5.42</td>\n",
       "      <td>152.54</td>\n",
       "      <td>22.280000</td>\n",
       "      <td>rice</td>\n",
       "    </tr>\n",
       "    <tr>\n",
       "      <th>99848</th>\n",
       "      <td>west bengal</td>\n",
       "      <td>30</td>\n",
       "      <td>15</td>\n",
       "      <td>30</td>\n",
       "      <td>6.54</td>\n",
       "      <td>152.54</td>\n",
       "      <td>22.280000</td>\n",
       "      <td>sesamum</td>\n",
       "    </tr>\n",
       "  </tbody>\n",
       "</table>\n",
       "<p>99849 rows × 8 columns</p>\n",
       "</div>"
      ],
      "text/plain": [
       "           State_Name    N   P   K    pH  rainfall  temperature       Crop\n",
       "0      andhra pradesh  120  40  20  5.46    654.34    29.266667     cotton\n",
       "1      andhra pradesh   20  60  20  6.18    654.34    29.266667  horsegram\n",
       "2      andhra pradesh   80  40  40  5.42    654.34    29.266667      jowar\n",
       "3      andhra pradesh   80  40  20  5.62    654.34    29.266667      maize\n",
       "4      andhra pradesh   20  40  20  5.68    654.34    29.266667      moong\n",
       "...               ...  ...  ..  ..   ...       ...          ...        ...\n",
       "99844     west bengal   60  30  30  6.70    152.54    22.280000      wheat\n",
       "99845     west bengal   80  40  20  5.68    182.50    29.200000      maize\n",
       "99846     west bengal   80  40  40  5.64    182.50    29.200000       rice\n",
       "99847     west bengal   80  40  40  5.42    152.54    22.280000       rice\n",
       "99848     west bengal   30  15  30  6.54    152.54    22.280000    sesamum\n",
       "\n",
       "[99849 rows x 8 columns]"
      ]
     },
     "execution_count": 95,
     "metadata": {},
     "output_type": "execute_result"
    }
   ],
   "source": [
    "# columns = ['N', 'P', 'K', 'temperature', 'humidity', 'ph',\n",
    "#        'rainfall', 'label']\n",
    "columns = ['State_Name', 'N', 'P', 'K', 'pH', 'rainfall', 'temperature', 'Crop']\n",
    "data = data[columns]\n",
    "data"
   ]
  },
  {
   "cell_type": "code",
   "execution_count": 96,
   "id": "0aa8b007",
   "metadata": {},
   "outputs": [
    {
     "name": "stdout",
     "output_type": "stream",
     "text": [
      "shape of dataset:  (99849, 8)\n"
     ]
    }
   ],
   "source": [
    "print(\"shape of dataset: \",data.shape)"
   ]
  },
  {
   "cell_type": "code",
   "execution_count": 97,
   "id": "beffc15d",
   "metadata": {},
   "outputs": [
    {
     "data": {
      "text/plain": [
       "array(['cotton', 'horsegram', 'jowar', 'maize', 'moong', 'ragi', 'rice',\n",
       "       'sunflower', 'wheat', 'sesamum', 'soyabean', 'rapeseed', 'jute',\n",
       "       'arecanut', 'onion', 'potato', 'sweetpotato', 'tapioca',\n",
       "       'turmeric', 'barley', 'banana', 'coriander', 'garlic',\n",
       "       'blackpepper', 'cardamom', 'cashewnuts', 'blackgram', 'coffee',\n",
       "       'ladyfinger', 'brinjal', 'cucumber', 'grapes', 'mango', 'orange',\n",
       "       'papaya', 'tomato', 'cabbage', 'bottlegourd', 'pineapple',\n",
       "       'carrot', 'radish', 'bittergourd', 'drumstick', 'jackfruit',\n",
       "       'cauliflower', 'watermelon', 'ashgourd', 'beetroot', 'pomegranate',\n",
       "       'ridgegourd', 'pumpkin', 'apple', 'ginger'], dtype=object)"
      ]
     },
     "execution_count": 97,
     "metadata": {},
     "output_type": "execute_result"
    }
   ],
   "source": [
    "data['Crop'].unique()"
   ]
  },
  {
   "cell_type": "code",
   "execution_count": null,
   "id": "a2b1c49a",
   "metadata": {},
   "outputs": [],
   "source": []
  },
  {
   "cell_type": "markdown",
   "id": "149e48d8",
   "metadata": {},
   "source": [
    "#                                                     Preprocessing"
   ]
  },
  {
   "cell_type": "markdown",
   "id": "58d098f8",
   "metadata": {},
   "source": [
    "# label column values are in string format "
   ]
  },
  {
   "cell_type": "code",
   "execution_count": 98,
   "id": "84ac68db",
   "metadata": {
    "scrolled": false
   },
   "outputs": [
    {
     "data": {
      "text/html": [
       "<div>\n",
       "<style scoped>\n",
       "    .dataframe tbody tr th:only-of-type {\n",
       "        vertical-align: middle;\n",
       "    }\n",
       "\n",
       "    .dataframe tbody tr th {\n",
       "        vertical-align: top;\n",
       "    }\n",
       "\n",
       "    .dataframe thead th {\n",
       "        text-align: right;\n",
       "    }\n",
       "</style>\n",
       "<table border=\"1\" class=\"dataframe\">\n",
       "  <thead>\n",
       "    <tr style=\"text-align: right;\">\n",
       "      <th></th>\n",
       "      <th>State_Name</th>\n",
       "      <th>N</th>\n",
       "      <th>P</th>\n",
       "      <th>K</th>\n",
       "      <th>pH</th>\n",
       "      <th>rainfall</th>\n",
       "      <th>temperature</th>\n",
       "      <th>Crop</th>\n",
       "    </tr>\n",
       "  </thead>\n",
       "  <tbody>\n",
       "    <tr>\n",
       "      <th>17726</th>\n",
       "      <td>0</td>\n",
       "      <td>100</td>\n",
       "      <td>40</td>\n",
       "      <td>140</td>\n",
       "      <td>5.86</td>\n",
       "      <td>1925.68</td>\n",
       "      <td>27.000000</td>\n",
       "      <td>1</td>\n",
       "    </tr>\n",
       "    <tr>\n",
       "      <th>31401</th>\n",
       "      <td>0</td>\n",
       "      <td>100</td>\n",
       "      <td>40</td>\n",
       "      <td>140</td>\n",
       "      <td>5.82</td>\n",
       "      <td>3322.06</td>\n",
       "      <td>27.036364</td>\n",
       "      <td>1</td>\n",
       "    </tr>\n",
       "    <tr>\n",
       "      <th>31400</th>\n",
       "      <td>0</td>\n",
       "      <td>80</td>\n",
       "      <td>40</td>\n",
       "      <td>40</td>\n",
       "      <td>5.42</td>\n",
       "      <td>1925.68</td>\n",
       "      <td>27.000000</td>\n",
       "      <td>42</td>\n",
       "    </tr>\n",
       "    <tr>\n",
       "      <th>31399</th>\n",
       "      <td>0</td>\n",
       "      <td>70</td>\n",
       "      <td>40</td>\n",
       "      <td>60</td>\n",
       "      <td>5.94</td>\n",
       "      <td>3322.06</td>\n",
       "      <td>27.036364</td>\n",
       "      <td>14</td>\n",
       "    </tr>\n",
       "    <tr>\n",
       "      <th>31398</th>\n",
       "      <td>0</td>\n",
       "      <td>100</td>\n",
       "      <td>60</td>\n",
       "      <td>50</td>\n",
       "      <td>5.14</td>\n",
       "      <td>3322.06</td>\n",
       "      <td>27.036364</td>\n",
       "      <td>8</td>\n",
       "    </tr>\n",
       "    <tr>\n",
       "      <th>...</th>\n",
       "      <td>...</td>\n",
       "      <td>...</td>\n",
       "      <td>...</td>\n",
       "      <td>...</td>\n",
       "      <td>...</td>\n",
       "      <td>...</td>\n",
       "      <td>...</td>\n",
       "      <td>...</td>\n",
       "    </tr>\n",
       "    <tr>\n",
       "      <th>39797</th>\n",
       "      <td>32</td>\n",
       "      <td>80</td>\n",
       "      <td>40</td>\n",
       "      <td>40</td>\n",
       "      <td>5.60</td>\n",
       "      <td>1166.94</td>\n",
       "      <td>28.333333</td>\n",
       "      <td>42</td>\n",
       "    </tr>\n",
       "    <tr>\n",
       "      <th>39798</th>\n",
       "      <td>32</td>\n",
       "      <td>80</td>\n",
       "      <td>40</td>\n",
       "      <td>40</td>\n",
       "      <td>5.54</td>\n",
       "      <td>1166.94</td>\n",
       "      <td>28.333333</td>\n",
       "      <td>27</td>\n",
       "    </tr>\n",
       "    <tr>\n",
       "      <th>39799</th>\n",
       "      <td>32</td>\n",
       "      <td>80</td>\n",
       "      <td>40</td>\n",
       "      <td>20</td>\n",
       "      <td>5.42</td>\n",
       "      <td>1166.94</td>\n",
       "      <td>28.333333</td>\n",
       "      <td>29</td>\n",
       "    </tr>\n",
       "    <tr>\n",
       "      <th>39791</th>\n",
       "      <td>32</td>\n",
       "      <td>80</td>\n",
       "      <td>40</td>\n",
       "      <td>40</td>\n",
       "      <td>5.40</td>\n",
       "      <td>182.50</td>\n",
       "      <td>29.200000</td>\n",
       "      <td>42</td>\n",
       "    </tr>\n",
       "    <tr>\n",
       "      <th>99848</th>\n",
       "      <td>32</td>\n",
       "      <td>30</td>\n",
       "      <td>15</td>\n",
       "      <td>30</td>\n",
       "      <td>6.54</td>\n",
       "      <td>152.54</td>\n",
       "      <td>22.280000</td>\n",
       "      <td>44</td>\n",
       "    </tr>\n",
       "  </tbody>\n",
       "</table>\n",
       "<p>99849 rows × 8 columns</p>\n",
       "</div>"
      ],
      "text/plain": [
       "       State_Name    N   P    K    pH  rainfall  temperature  Crop\n",
       "17726           0  100  40  140  5.86   1925.68    27.000000     1\n",
       "31401           0  100  40  140  5.82   3322.06    27.036364     1\n",
       "31400           0   80  40   40  5.42   1925.68    27.000000    42\n",
       "31399           0   70  40   60  5.94   3322.06    27.036364    14\n",
       "31398           0  100  60   50  5.14   3322.06    27.036364     8\n",
       "...           ...  ...  ..  ...   ...       ...          ...   ...\n",
       "39797          32   80  40   40  5.60   1166.94    28.333333    42\n",
       "39798          32   80  40   40  5.54   1166.94    28.333333    27\n",
       "39799          32   80  40   20  5.42   1166.94    28.333333    29\n",
       "39791          32   80  40   40  5.40    182.50    29.200000    42\n",
       "99848          32   30  15   30  6.54    152.54    22.280000    44\n",
       "\n",
       "[99849 rows x 8 columns]"
      ]
     },
     "execution_count": 98,
     "metadata": {},
     "output_type": "execute_result"
    }
   ],
   "source": [
    "#doing one hot encoding 'label' column\n",
    "from sklearn.preprocessing import LabelEncoder\n",
    "encoder = LabelEncoder()\n",
    "data['Crop'] = encoder.fit_transform(data['Crop'])\n",
    "encoder2 = LabelEncoder()\n",
    "data['State_Name'] = encoder2.fit_transform(data['State_Name'])\n",
    "data = data.sort_values(by = 'State_Name')\n",
    "data"
   ]
  },
  {
   "cell_type": "code",
   "execution_count": 99,
   "id": "c8ef4827",
   "metadata": {},
   "outputs": [],
   "source": [
    "df = data#.sample(10000)"
   ]
  },
  {
   "cell_type": "code",
   "execution_count": 100,
   "id": "76825d45",
   "metadata": {},
   "outputs": [
    {
     "data": {
      "text/html": [
       "<div>\n",
       "<style scoped>\n",
       "    .dataframe tbody tr th:only-of-type {\n",
       "        vertical-align: middle;\n",
       "    }\n",
       "\n",
       "    .dataframe tbody tr th {\n",
       "        vertical-align: top;\n",
       "    }\n",
       "\n",
       "    .dataframe thead th {\n",
       "        text-align: right;\n",
       "    }\n",
       "</style>\n",
       "<table border=\"1\" class=\"dataframe\">\n",
       "  <thead>\n",
       "    <tr style=\"text-align: right;\">\n",
       "      <th></th>\n",
       "      <th>State_Name</th>\n",
       "      <th>N</th>\n",
       "      <th>P</th>\n",
       "      <th>K</th>\n",
       "      <th>pH</th>\n",
       "      <th>rainfall</th>\n",
       "      <th>temperature</th>\n",
       "      <th>Crop</th>\n",
       "    </tr>\n",
       "  </thead>\n",
       "  <tbody>\n",
       "    <tr>\n",
       "      <th>17726</th>\n",
       "      <td>0</td>\n",
       "      <td>100</td>\n",
       "      <td>40</td>\n",
       "      <td>140</td>\n",
       "      <td>5.86</td>\n",
       "      <td>1925.68</td>\n",
       "      <td>27.000000</td>\n",
       "      <td>1</td>\n",
       "    </tr>\n",
       "    <tr>\n",
       "      <th>31401</th>\n",
       "      <td>0</td>\n",
       "      <td>100</td>\n",
       "      <td>40</td>\n",
       "      <td>140</td>\n",
       "      <td>5.82</td>\n",
       "      <td>3322.06</td>\n",
       "      <td>27.036364</td>\n",
       "      <td>1</td>\n",
       "    </tr>\n",
       "    <tr>\n",
       "      <th>31400</th>\n",
       "      <td>0</td>\n",
       "      <td>80</td>\n",
       "      <td>40</td>\n",
       "      <td>40</td>\n",
       "      <td>5.42</td>\n",
       "      <td>1925.68</td>\n",
       "      <td>27.000000</td>\n",
       "      <td>42</td>\n",
       "    </tr>\n",
       "    <tr>\n",
       "      <th>31399</th>\n",
       "      <td>0</td>\n",
       "      <td>70</td>\n",
       "      <td>40</td>\n",
       "      <td>60</td>\n",
       "      <td>5.94</td>\n",
       "      <td>3322.06</td>\n",
       "      <td>27.036364</td>\n",
       "      <td>14</td>\n",
       "    </tr>\n",
       "    <tr>\n",
       "      <th>31398</th>\n",
       "      <td>0</td>\n",
       "      <td>100</td>\n",
       "      <td>60</td>\n",
       "      <td>50</td>\n",
       "      <td>5.14</td>\n",
       "      <td>3322.06</td>\n",
       "      <td>27.036364</td>\n",
       "      <td>8</td>\n",
       "    </tr>\n",
       "    <tr>\n",
       "      <th>...</th>\n",
       "      <td>...</td>\n",
       "      <td>...</td>\n",
       "      <td>...</td>\n",
       "      <td>...</td>\n",
       "      <td>...</td>\n",
       "      <td>...</td>\n",
       "      <td>...</td>\n",
       "      <td>...</td>\n",
       "    </tr>\n",
       "    <tr>\n",
       "      <th>39797</th>\n",
       "      <td>32</td>\n",
       "      <td>80</td>\n",
       "      <td>40</td>\n",
       "      <td>40</td>\n",
       "      <td>5.60</td>\n",
       "      <td>1166.94</td>\n",
       "      <td>28.333333</td>\n",
       "      <td>42</td>\n",
       "    </tr>\n",
       "    <tr>\n",
       "      <th>39798</th>\n",
       "      <td>32</td>\n",
       "      <td>80</td>\n",
       "      <td>40</td>\n",
       "      <td>40</td>\n",
       "      <td>5.54</td>\n",
       "      <td>1166.94</td>\n",
       "      <td>28.333333</td>\n",
       "      <td>27</td>\n",
       "    </tr>\n",
       "    <tr>\n",
       "      <th>39799</th>\n",
       "      <td>32</td>\n",
       "      <td>80</td>\n",
       "      <td>40</td>\n",
       "      <td>20</td>\n",
       "      <td>5.42</td>\n",
       "      <td>1166.94</td>\n",
       "      <td>28.333333</td>\n",
       "      <td>29</td>\n",
       "    </tr>\n",
       "    <tr>\n",
       "      <th>39791</th>\n",
       "      <td>32</td>\n",
       "      <td>80</td>\n",
       "      <td>40</td>\n",
       "      <td>40</td>\n",
       "      <td>5.40</td>\n",
       "      <td>182.50</td>\n",
       "      <td>29.200000</td>\n",
       "      <td>42</td>\n",
       "    </tr>\n",
       "    <tr>\n",
       "      <th>99848</th>\n",
       "      <td>32</td>\n",
       "      <td>30</td>\n",
       "      <td>15</td>\n",
       "      <td>30</td>\n",
       "      <td>6.54</td>\n",
       "      <td>152.54</td>\n",
       "      <td>22.280000</td>\n",
       "      <td>44</td>\n",
       "    </tr>\n",
       "  </tbody>\n",
       "</table>\n",
       "<p>99849 rows × 8 columns</p>\n",
       "</div>"
      ],
      "text/plain": [
       "       State_Name    N   P    K    pH  rainfall  temperature  Crop\n",
       "17726           0  100  40  140  5.86   1925.68    27.000000     1\n",
       "31401           0  100  40  140  5.82   3322.06    27.036364     1\n",
       "31400           0   80  40   40  5.42   1925.68    27.000000    42\n",
       "31399           0   70  40   60  5.94   3322.06    27.036364    14\n",
       "31398           0  100  60   50  5.14   3322.06    27.036364     8\n",
       "...           ...  ...  ..  ...   ...       ...          ...   ...\n",
       "39797          32   80  40   40  5.60   1166.94    28.333333    42\n",
       "39798          32   80  40   40  5.54   1166.94    28.333333    27\n",
       "39799          32   80  40   20  5.42   1166.94    28.333333    29\n",
       "39791          32   80  40   40  5.40    182.50    29.200000    42\n",
       "99848          32   30  15   30  6.54    152.54    22.280000    44\n",
       "\n",
       "[99849 rows x 8 columns]"
      ]
     },
     "execution_count": 100,
     "metadata": {},
     "output_type": "execute_result"
    }
   ],
   "source": [
    "df"
   ]
  },
  {
   "cell_type": "code",
   "execution_count": 101,
   "id": "5b093b85",
   "metadata": {},
   "outputs": [
    {
     "data": {
      "text/plain": [
       "53"
      ]
     },
     "execution_count": 101,
     "metadata": {},
     "output_type": "execute_result"
    }
   ],
   "source": [
    "len(list(sorted(df['Crop'].unique())))"
   ]
  },
  {
   "cell_type": "code",
   "execution_count": 102,
   "id": "de8e2162",
   "metadata": {},
   "outputs": [
    {
     "name": "stdout",
     "output_type": "stream",
     "text": [
      "[(0, 'apple'), (1, 'arecanut'), (2, 'ashgourd'), (3, 'banana'), (4, 'barley'), (5, 'beetroot'), (6, 'bittergourd'), (7, 'blackgram'), (8, 'blackpepper'), (9, 'bottlegourd'), (10, 'brinjal'), (11, 'cabbage'), (12, 'cardamom'), (13, 'carrot'), (14, 'cashewnuts'), (15, 'cauliflower'), (16, 'coffee'), (17, 'coriander'), (18, 'cotton'), (19, 'cucumber'), (20, 'drumstick'), (21, 'garlic'), (22, 'ginger'), (23, 'grapes'), (24, 'horsegram'), (25, 'jackfruit'), (26, 'jowar'), (27, 'jute'), (28, 'ladyfinger'), (29, 'maize'), (30, 'mango'), (31, 'moong'), (32, 'onion'), (33, 'orange'), (34, 'papaya'), (35, 'pineapple'), (36, 'pomegranate'), (37, 'potato'), (38, 'pumpkin'), (39, 'radish'), (40, 'ragi'), (41, 'rapeseed'), (42, 'rice'), (43, 'ridgegourd'), (44, 'sesamum'), (45, 'soyabean'), (46, 'sunflower'), (47, 'sweetpotato'), (48, 'tapioca'), (49, 'tomato'), (50, 'turmeric'), (51, 'watermelon'), (52, 'wheat')]\n",
      "[(0, 'andaman and nicobar islands'), (1, 'andhra pradesh'), (2, 'arunachal pradesh'), (3, 'assam'), (4, 'bihar'), (5, 'chandigarh'), (6, 'chhattisgarh'), (7, 'dadra and nagar haveli'), (8, 'goa'), (9, 'gujarat'), (10, 'haryana'), (11, 'himachal pradesh'), (12, 'jammu and kashmir'), (13, 'jharkhand'), (14, 'karnataka'), (15, 'kerala'), (16, 'madhya pradesh'), (17, 'maharashtra'), (18, 'manipur'), (19, 'meghalaya'), (20, 'mizoram'), (21, 'nagaland'), (22, 'odisha'), (23, 'puducherry'), (24, 'punjab'), (25, 'rajasthan'), (26, 'sikkim'), (27, 'tamil nadu'), (28, 'telangana'), (29, 'tripura'), (30, 'uttar pradesh'), (31, 'uttarakhand'), (32, 'west bengal')]\n"
     ]
    }
   ],
   "source": [
    "assign_crop = [(y,x) for x,y in zip(encoder.inverse_transform(range(53)),range(53))]\n",
    "print(assign_crop)\n",
    "assign_state = [(y,x) for x,y in zip(encoder2.inverse_transform(range(33)),range(33))]\n",
    "print(assign_state)"
   ]
  },
  {
   "cell_type": "code",
   "execution_count": null,
   "id": "c12c0c26",
   "metadata": {},
   "outputs": [],
   "source": []
  },
  {
   "cell_type": "code",
   "execution_count": 103,
   "id": "e3cfb5ff",
   "metadata": {},
   "outputs": [],
   "source": [
    "di = dict(zip(encoder2.classes_,encoder2.transform(encoder2.classes_)))\n"
   ]
  },
  {
   "cell_type": "markdown",
   "id": "94173595",
   "metadata": {},
   "source": [
    "## Splitting the data into Train and Test "
   ]
  },
  {
   "cell_type": "code",
   "execution_count": 104,
   "id": "4c07d5aa",
   "metadata": {},
   "outputs": [],
   "source": [
    "X = df.drop('Crop',axis = 1)\n",
    "Y = df['Crop']"
   ]
  },
  {
   "cell_type": "code",
   "execution_count": 105,
   "id": "c42f875c",
   "metadata": {},
   "outputs": [
    {
     "name": "stdout",
     "output_type": "stream",
     "text": [
      "x:  Index(['State_Name', 'N', 'P', 'K', 'pH', 'rainfall', 'temperature'], dtype='object')\n"
     ]
    }
   ],
   "source": [
    "print(\"x: \",X.columns)"
   ]
  },
  {
   "cell_type": "code",
   "execution_count": 106,
   "id": "39b8ef1c",
   "metadata": {},
   "outputs": [
    {
     "data": {
      "text/html": [
       "<div>\n",
       "<style scoped>\n",
       "    .dataframe tbody tr th:only-of-type {\n",
       "        vertical-align: middle;\n",
       "    }\n",
       "\n",
       "    .dataframe tbody tr th {\n",
       "        vertical-align: top;\n",
       "    }\n",
       "\n",
       "    .dataframe thead th {\n",
       "        text-align: right;\n",
       "    }\n",
       "</style>\n",
       "<table border=\"1\" class=\"dataframe\">\n",
       "  <thead>\n",
       "    <tr style=\"text-align: right;\">\n",
       "      <th></th>\n",
       "      <th>State_Name</th>\n",
       "      <th>N</th>\n",
       "      <th>P</th>\n",
       "      <th>K</th>\n",
       "      <th>pH</th>\n",
       "      <th>rainfall</th>\n",
       "      <th>temperature</th>\n",
       "    </tr>\n",
       "  </thead>\n",
       "  <tbody>\n",
       "    <tr>\n",
       "      <th>17726</th>\n",
       "      <td>0</td>\n",
       "      <td>100</td>\n",
       "      <td>40</td>\n",
       "      <td>140</td>\n",
       "      <td>5.86</td>\n",
       "      <td>1925.68</td>\n",
       "      <td>27.000000</td>\n",
       "    </tr>\n",
       "    <tr>\n",
       "      <th>31401</th>\n",
       "      <td>0</td>\n",
       "      <td>100</td>\n",
       "      <td>40</td>\n",
       "      <td>140</td>\n",
       "      <td>5.82</td>\n",
       "      <td>3322.06</td>\n",
       "      <td>27.036364</td>\n",
       "    </tr>\n",
       "    <tr>\n",
       "      <th>31400</th>\n",
       "      <td>0</td>\n",
       "      <td>80</td>\n",
       "      <td>40</td>\n",
       "      <td>40</td>\n",
       "      <td>5.42</td>\n",
       "      <td>1925.68</td>\n",
       "      <td>27.000000</td>\n",
       "    </tr>\n",
       "    <tr>\n",
       "      <th>31399</th>\n",
       "      <td>0</td>\n",
       "      <td>70</td>\n",
       "      <td>40</td>\n",
       "      <td>60</td>\n",
       "      <td>5.94</td>\n",
       "      <td>3322.06</td>\n",
       "      <td>27.036364</td>\n",
       "    </tr>\n",
       "    <tr>\n",
       "      <th>31398</th>\n",
       "      <td>0</td>\n",
       "      <td>100</td>\n",
       "      <td>60</td>\n",
       "      <td>50</td>\n",
       "      <td>5.14</td>\n",
       "      <td>3322.06</td>\n",
       "      <td>27.036364</td>\n",
       "    </tr>\n",
       "    <tr>\n",
       "      <th>...</th>\n",
       "      <td>...</td>\n",
       "      <td>...</td>\n",
       "      <td>...</td>\n",
       "      <td>...</td>\n",
       "      <td>...</td>\n",
       "      <td>...</td>\n",
       "      <td>...</td>\n",
       "    </tr>\n",
       "    <tr>\n",
       "      <th>39797</th>\n",
       "      <td>32</td>\n",
       "      <td>80</td>\n",
       "      <td>40</td>\n",
       "      <td>40</td>\n",
       "      <td>5.60</td>\n",
       "      <td>1166.94</td>\n",
       "      <td>28.333333</td>\n",
       "    </tr>\n",
       "    <tr>\n",
       "      <th>39798</th>\n",
       "      <td>32</td>\n",
       "      <td>80</td>\n",
       "      <td>40</td>\n",
       "      <td>40</td>\n",
       "      <td>5.54</td>\n",
       "      <td>1166.94</td>\n",
       "      <td>28.333333</td>\n",
       "    </tr>\n",
       "    <tr>\n",
       "      <th>39799</th>\n",
       "      <td>32</td>\n",
       "      <td>80</td>\n",
       "      <td>40</td>\n",
       "      <td>20</td>\n",
       "      <td>5.42</td>\n",
       "      <td>1166.94</td>\n",
       "      <td>28.333333</td>\n",
       "    </tr>\n",
       "    <tr>\n",
       "      <th>39791</th>\n",
       "      <td>32</td>\n",
       "      <td>80</td>\n",
       "      <td>40</td>\n",
       "      <td>40</td>\n",
       "      <td>5.40</td>\n",
       "      <td>182.50</td>\n",
       "      <td>29.200000</td>\n",
       "    </tr>\n",
       "    <tr>\n",
       "      <th>99848</th>\n",
       "      <td>32</td>\n",
       "      <td>30</td>\n",
       "      <td>15</td>\n",
       "      <td>30</td>\n",
       "      <td>6.54</td>\n",
       "      <td>152.54</td>\n",
       "      <td>22.280000</td>\n",
       "    </tr>\n",
       "  </tbody>\n",
       "</table>\n",
       "<p>99849 rows × 7 columns</p>\n",
       "</div>"
      ],
      "text/plain": [
       "       State_Name    N   P    K    pH  rainfall  temperature\n",
       "17726           0  100  40  140  5.86   1925.68    27.000000\n",
       "31401           0  100  40  140  5.82   3322.06    27.036364\n",
       "31400           0   80  40   40  5.42   1925.68    27.000000\n",
       "31399           0   70  40   60  5.94   3322.06    27.036364\n",
       "31398           0  100  60   50  5.14   3322.06    27.036364\n",
       "...           ...  ...  ..  ...   ...       ...          ...\n",
       "39797          32   80  40   40  5.60   1166.94    28.333333\n",
       "39798          32   80  40   40  5.54   1166.94    28.333333\n",
       "39799          32   80  40   20  5.42   1166.94    28.333333\n",
       "39791          32   80  40   40  5.40    182.50    29.200000\n",
       "99848          32   30  15   30  6.54    152.54    22.280000\n",
       "\n",
       "[99849 rows x 7 columns]"
      ]
     },
     "execution_count": 106,
     "metadata": {},
     "output_type": "execute_result"
    }
   ],
   "source": [
    "X"
   ]
  },
  {
   "cell_type": "code",
   "execution_count": 107,
   "id": "4a6843d4",
   "metadata": {},
   "outputs": [
    {
     "data": {
      "text/plain": [
       "17726     1\n",
       "31401     1\n",
       "31400    42\n",
       "31399    14\n",
       "31398     8\n",
       "         ..\n",
       "39797    42\n",
       "39798    27\n",
       "39799    29\n",
       "39791    42\n",
       "99848    44\n",
       "Name: Crop, Length: 99849, dtype: int32"
      ]
     },
     "execution_count": 107,
     "metadata": {},
     "output_type": "execute_result"
    }
   ],
   "source": [
    "Y"
   ]
  },
  {
   "cell_type": "code",
   "execution_count": 108,
   "id": "c64c8b29",
   "metadata": {},
   "outputs": [],
   "source": [
    "x_train,x_test,y_train,y_test = train_test_split(X,Y, train_size = 0.8,random_state = 42)"
   ]
  },
  {
   "cell_type": "code",
   "execution_count": 109,
   "id": "26bb891a",
   "metadata": {},
   "outputs": [],
   "source": [
    "scaler = StandardScaler()\n",
    "x_train = scaler.fit_transform(x_train)\n",
    "x_test = scaler.transform(x_test)"
   ]
  },
  {
   "cell_type": "code",
   "execution_count": 110,
   "id": "82a88045",
   "metadata": {},
   "outputs": [
    {
     "data": {
      "text/plain": [
       "['ml_saved_models/scalerV1.0.pkl']"
      ]
     },
     "execution_count": 110,
     "metadata": {},
     "output_type": "execute_result"
    }
   ],
   "source": [
    "import joblib\n",
    "joblib.dump(scaler,'ml_saved_models/scalerV1.0.pkl')"
   ]
  },
  {
   "cell_type": "code",
   "execution_count": 16,
   "id": "bae44879",
   "metadata": {},
   "outputs": [
    {
     "name": "stdout",
     "output_type": "stream",
     "text": [
      "x_train size : 559153\n",
      "x_test size : 139790\n"
     ]
    }
   ],
   "source": [
    "print(\"x_train size :\",x_train.size)\n",
    "print(\"x_test size :\",x_test.size)"
   ]
  },
  {
   "cell_type": "code",
   "execution_count": null,
   "id": "ee5283eb",
   "metadata": {},
   "outputs": [],
   "source": [
    "x_train"
   ]
  },
  {
   "cell_type": "markdown",
   "id": "26ff4cdc",
   "metadata": {},
   "source": [
    "\n",
    "# building the models"
   ]
  },
  {
   "cell_type": "code",
   "execution_count": 42,
   "id": "a6925767",
   "metadata": {},
   "outputs": [],
   "source": [
    "models = [('LogisticRegression',LogisticRegression(max_iter = 1000)),\n",
    "          ('SVM',SVC()),\n",
    "          ('DecisionTreeClassifier',DecisionTreeClassifier()),\n",
    "          ('KNeighborsClassifier',KNeighborsClassifier()),\n",
    "          ('GaussianNB',GaussianNB()),\n",
    "          ('RandomForestClassifier',RandomForestClassifier()),      #ensemble ML models \n",
    "          ('VotingClassifier',VotingClassifier([('Random Forest',RandomForestClassifier()),('Gradient Boosting',GradientBoostingClassifier()),('SVM',SVC()),('Logistic Regression',LogisticRegression(max_iter = 1000))])),\n",
    "          ('BaggingClassifier',BaggingClassifier()),\n",
    "          ('AdaBoostClassifier',AdaBoostClassifier()),\n",
    "          ('GradientBoostingClassifier',GradientBoostingClassifier())\n",
    "         ]"
   ]
  },
  {
   "cell_type": "markdown",
   "id": "1826e708",
   "metadata": {},
   "source": [
    "# model training"
   ]
  },
  {
   "cell_type": "code",
   "execution_count": 43,
   "id": "4f707326",
   "metadata": {},
   "outputs": [
    {
     "name": "stdout",
     "output_type": "stream",
     "text": [
      "accuracy scores of LogisticRegression : 0.9310465698547822\n",
      "accuracy scores of SVM : 0.9348022033049574\n",
      "accuracy scores of DecisionTreeClassifier : 0.9412618928392589\n",
      "accuracy scores of KNeighborsClasscifier : 0.9385077616424637\n",
      "accuracy scores of GaussianNB : 0.9339008512769154\n",
      "accuracy scores of RandomForestClassifier : 0.941662493740611\n",
      "accuracy scores of VotingClassifier : 0.942113169754632\n",
      "accuracy scores of BaggingClassifier : 0.9414121181772659\n",
      "accuracy scores of AdaBoostClassifier : 0.29083625438157235\n",
      "accuracy scores of GradientBoostingClassifier : 0.9438657986980471\n"
     ]
    }
   ],
   "source": [
    "accuracies = {}\n",
    "for name,model in models:\n",
    "    model.fit(x_train,y_train)\n",
    "    predict = model.predict(x_test)\n",
    "    accuracies[name] = accuracy_score(y_test,predict)\n",
    "    print(f'accuracy scores of {name} : {accuracies[name]}')"
   ]
  },
  {
   "cell_type": "code",
   "execution_count": 44,
   "id": "ce0ce5f5",
   "metadata": {},
   "outputs": [],
   "source": [
    "import joblib\n",
    "import os\n",
    "import shutil\n",
    "# shutil.rmtree('ml_saved_models')\n",
    "# os.mkdir('ml_saved_models')\n",
    "os.mkdir('ml_saved_models/normalV2.2')\n",
    "for name,model in models:\n",
    "    joblib.dump(model,f'ml_saved_models/normalV2.2/{name}_22.pkl')"
   ]
  },
  {
   "cell_type": "markdown",
   "id": "5a863649",
   "metadata": {},
   "source": [
    "# load the saved models"
   ]
  },
  {
   "cell_type": "code",
   "execution_count": null,
   "id": "dc3a4133",
   "metadata": {},
   "outputs": [],
   "source": [
    "# models1 = []\n",
    "# for name,model in models:\n",
    "#     model = joblib.load(f'ml_saved_models/normalV2.2/{name}_22.pkl')\n",
    "#     models1.append((name,model))"
   ]
  },
  {
   "cell_type": "code",
   "execution_count": 45,
   "id": "af800f4d",
   "metadata": {},
   "outputs": [
    {
     "name": "stdout",
     "output_type": "stream",
     "text": [
      "accuracy scores of LogisticRegression : 0.9310465698547822\n",
      "accuracy scores of SVM : 0.9348022033049574\n",
      "accuracy scores of DecisionTreeClassifier : 0.9412618928392589\n",
      "accuracy scores of KNeighborsClasscifier : 0.9385077616424637\n",
      "accuracy scores of GaussianNB : 0.9339008512769154\n",
      "accuracy scores of RandomForestClassifier : 0.941662493740611\n",
      "accuracy scores of VotingClassifier : 0.942113169754632\n",
      "accuracy scores of BaggingClassifier : 0.9414121181772659\n",
      "accuracy scores of AdaBoostClassifier : 0.29083625438157235\n",
      "accuracy scores of GradientBoostingClassifier : 0.9438657986980471\n"
     ]
    }
   ],
   "source": [
    "accuracies1 = {}\n",
    "for name,model in models:\n",
    "    model = joblib.load(f'ml_saved_models/normalV2.2/{name}_22.pkl')\n",
    "    predict = model.predict(x_test)\n",
    "    accuracies1[name] = accuracy_score(y_test,predict)\n",
    "    print(f'accuracy scores of {name} : {accuracies1[name]}')"
   ]
  },
  {
   "cell_type": "code",
   "execution_count": 46,
   "id": "5a6c4927",
   "metadata": {},
   "outputs": [
    {
     "data": {
      "text/html": [
       "<div>\n",
       "<style scoped>\n",
       "    .dataframe tbody tr th:only-of-type {\n",
       "        vertical-align: middle;\n",
       "    }\n",
       "\n",
       "    .dataframe tbody tr th {\n",
       "        vertical-align: top;\n",
       "    }\n",
       "\n",
       "    .dataframe thead th {\n",
       "        text-align: right;\n",
       "    }\n",
       "</style>\n",
       "<table border=\"1\" class=\"dataframe\">\n",
       "  <thead>\n",
       "    <tr style=\"text-align: right;\">\n",
       "      <th></th>\n",
       "      <th>model</th>\n",
       "      <th>accuracies</th>\n",
       "    </tr>\n",
       "  </thead>\n",
       "  <tbody>\n",
       "    <tr>\n",
       "      <th>0</th>\n",
       "      <td>LogisticRegression</td>\n",
       "      <td>0.931047</td>\n",
       "    </tr>\n",
       "    <tr>\n",
       "      <th>1</th>\n",
       "      <td>SVM</td>\n",
       "      <td>0.934802</td>\n",
       "    </tr>\n",
       "    <tr>\n",
       "      <th>2</th>\n",
       "      <td>DecisionTreeClassifier</td>\n",
       "      <td>0.941262</td>\n",
       "    </tr>\n",
       "    <tr>\n",
       "      <th>3</th>\n",
       "      <td>KNeighborsClasscifier</td>\n",
       "      <td>0.938508</td>\n",
       "    </tr>\n",
       "    <tr>\n",
       "      <th>4</th>\n",
       "      <td>GaussianNB</td>\n",
       "      <td>0.933901</td>\n",
       "    </tr>\n",
       "    <tr>\n",
       "      <th>5</th>\n",
       "      <td>RandomForestClassifier</td>\n",
       "      <td>0.941662</td>\n",
       "    </tr>\n",
       "    <tr>\n",
       "      <th>6</th>\n",
       "      <td>VotingClassifier</td>\n",
       "      <td>0.942113</td>\n",
       "    </tr>\n",
       "    <tr>\n",
       "      <th>7</th>\n",
       "      <td>BaggingClassifier</td>\n",
       "      <td>0.941412</td>\n",
       "    </tr>\n",
       "    <tr>\n",
       "      <th>8</th>\n",
       "      <td>AdaBoostClassifier</td>\n",
       "      <td>0.290836</td>\n",
       "    </tr>\n",
       "    <tr>\n",
       "      <th>9</th>\n",
       "      <td>GradientBoostingClassifier</td>\n",
       "      <td>0.943866</td>\n",
       "    </tr>\n",
       "  </tbody>\n",
       "</table>\n",
       "</div>"
      ],
      "text/plain": [
       "                        model  accuracies\n",
       "0          LogisticRegression    0.931047\n",
       "1                         SVM    0.934802\n",
       "2      DecisionTreeClassifier    0.941262\n",
       "3       KNeighborsClasscifier    0.938508\n",
       "4                  GaussianNB    0.933901\n",
       "5      RandomForestClassifier    0.941662\n",
       "6            VotingClassifier    0.942113\n",
       "7           BaggingClassifier    0.941412\n",
       "8          AdaBoostClassifier    0.290836\n",
       "9  GradientBoostingClassifier    0.943866"
      ]
     },
     "execution_count": 46,
     "metadata": {},
     "output_type": "execute_result"
    }
   ],
   "source": [
    "ml_accuracies = pd.DataFrame()\n",
    "ml_accuracies['model'] = list(accuracies.keys())\n",
    "ml_accuracies['accuracies'] = list(accuracies.values())\n",
    "ml_accuracies.to_csv('ml_saved_models/normalV2.2/ml_accuracies_normalV22.csv')\n",
    "ml_accuracies"
   ]
  },
  {
   "cell_type": "code",
   "execution_count": 47,
   "id": "b26386f4",
   "metadata": {},
   "outputs": [
    {
     "data": {
      "text/html": [
       "<div>\n",
       "<style scoped>\n",
       "    .dataframe tbody tr th:only-of-type {\n",
       "        vertical-align: middle;\n",
       "    }\n",
       "\n",
       "    .dataframe tbody tr th {\n",
       "        vertical-align: top;\n",
       "    }\n",
       "\n",
       "    .dataframe thead th {\n",
       "        text-align: right;\n",
       "    }\n",
       "</style>\n",
       "<table border=\"1\" class=\"dataframe\">\n",
       "  <thead>\n",
       "    <tr style=\"text-align: right;\">\n",
       "      <th></th>\n",
       "      <th>y_test</th>\n",
       "      <th>predict</th>\n",
       "    </tr>\n",
       "  </thead>\n",
       "  <tbody>\n",
       "    <tr>\n",
       "      <th>0</th>\n",
       "      <td>52</td>\n",
       "      <td>52</td>\n",
       "    </tr>\n",
       "    <tr>\n",
       "      <th>1</th>\n",
       "      <td>42</td>\n",
       "      <td>42</td>\n",
       "    </tr>\n",
       "    <tr>\n",
       "      <th>2</th>\n",
       "      <td>52</td>\n",
       "      <td>52</td>\n",
       "    </tr>\n",
       "    <tr>\n",
       "      <th>3</th>\n",
       "      <td>45</td>\n",
       "      <td>45</td>\n",
       "    </tr>\n",
       "    <tr>\n",
       "      <th>4</th>\n",
       "      <td>50</td>\n",
       "      <td>50</td>\n",
       "    </tr>\n",
       "    <tr>\n",
       "      <th>...</th>\n",
       "      <td>...</td>\n",
       "      <td>...</td>\n",
       "    </tr>\n",
       "    <tr>\n",
       "      <th>19965</th>\n",
       "      <td>37</td>\n",
       "      <td>37</td>\n",
       "    </tr>\n",
       "    <tr>\n",
       "      <th>19966</th>\n",
       "      <td>46</td>\n",
       "      <td>46</td>\n",
       "    </tr>\n",
       "    <tr>\n",
       "      <th>19967</th>\n",
       "      <td>44</td>\n",
       "      <td>44</td>\n",
       "    </tr>\n",
       "    <tr>\n",
       "      <th>19968</th>\n",
       "      <td>29</td>\n",
       "      <td>29</td>\n",
       "    </tr>\n",
       "    <tr>\n",
       "      <th>19969</th>\n",
       "      <td>32</td>\n",
       "      <td>32</td>\n",
       "    </tr>\n",
       "  </tbody>\n",
       "</table>\n",
       "<p>19970 rows × 2 columns</p>\n",
       "</div>"
      ],
      "text/plain": [
       "       y_test  predict\n",
       "0          52       52\n",
       "1          42       42\n",
       "2          52       52\n",
       "3          45       45\n",
       "4          50       50\n",
       "...       ...      ...\n",
       "19965      37       37\n",
       "19966      46       46\n",
       "19967      44       44\n",
       "19968      29       29\n",
       "19969      32       32\n",
       "\n",
       "[19970 rows x 2 columns]"
      ]
     },
     "execution_count": 47,
     "metadata": {},
     "output_type": "execute_result"
    }
   ],
   "source": [
    "sho = pd.DataFrame(list(y_test),columns=['y_test'])\n",
    "sho['predict'] = predict\n",
    "sho"
   ]
  },
  {
   "cell_type": "code",
   "execution_count": null,
   "id": "1aaa5873",
   "metadata": {},
   "outputs": [],
   "source": []
  },
  {
   "cell_type": "code",
   "execution_count": null,
   "id": "d864bb3b",
   "metadata": {},
   "outputs": [],
   "source": []
  },
  {
   "cell_type": "markdown",
   "id": "41f242b8",
   "metadata": {},
   "source": [
    "# hyper parametertuning"
   ]
  },
  {
   "cell_type": "code",
   "execution_count": 2,
   "id": "42257900",
   "metadata": {},
   "outputs": [],
   "source": [
    "from sklearn.model_selection import GridSearchCV\n",
    "from sklearn.preprocessing import StandardScaler\n",
    "from sklearn.metrics import accuracy_score\n",
    "from sklearn.datasets import make_classification\n",
    "from sklearn.model_selection import train_test_split\n",
    "from sklearn.linear_model import LogisticRegression\n",
    "from sklearn.svm import SVC\n",
    "from sklearn.tree import DecisionTreeClassifier\n",
    "from sklearn.neighbors import KNeighborsClassifier\n",
    "from sklearn.naive_bayes import GaussianNB\n",
    "from sklearn.ensemble import RandomForestClassifier, VotingClassifier, BaggingClassifier, AdaBoostClassifier, GradientBoostingClassifier\n",
    "import joblib\n",
    "import os\n",
    "import shutil\n",
    "\n",
    "# Define hyperparameters for each model for grid search\n",
    "param_grid = {\n",
    "    'LogisticRegression': {'max_iter': [1000]},\n",
    "    'SVM': {'C': [0.1, 1, 10], 'kernel': ['linear', 'rbf']},\n",
    "    'DecisionTreeClassifier': {'max_depth': [None, 5, 10, 15]},\n",
    "    'KNeighborsClassifier': {'n_neighbors': [3, 5, 7]},\n",
    "    'GaussianNB': {},  # No hyperparameters for GaussianNB\n",
    "    'RandomForestClassifier': {'n_estimators': [50, 100, 200]},\n",
    "    'VotingClassifier': {},  # Hyperparameters are set inside VotingClassifier definition\n",
    "    'BaggingClassifier': {'n_estimators': [10, 50, 100]},\n",
    "    'AdaBoostClassifier': {'n_estimators': [50, 100, 200], 'learning_rate': [0.01, 0.1, 1.0]},\n",
    "    'GradientBoostingClassifier': {'n_estimators': [50, 100, 200], 'learning_rate': [0.01, 0.1, 1.0]}\n",
    "}\n",
    "\n",
    "# List of models with their respective names\n",
    "models = [\n",
    "    ('LogisticRegression', LogisticRegression()),\n",
    "    ('SVM', SVC()),\n",
    "    ('DecisionTreeClassifier', DecisionTreeClassifier()),\n",
    "    ('KNeighborsClassifier', KNeighborsClassifier()),\n",
    "    ('GaussianNB', GaussianNB()),\n",
    "    ('RandomForestClassifier', RandomForestClassifier()),\n",
    "    ('VotingClassifier', VotingClassifier([('Random Forest', RandomForestClassifier()),\n",
    "                                           ('SVM', SVC()),\n",
    "                                           ('Logistic Regression', LogisticRegression(max_iter=1000))])),\n",
    "    ('BaggingClassifier', BaggingClassifier()),\n",
    "    ('AdaBoostClassifier', AdaBoostClassifier()),\n",
    "    ('GradientBoostingClassifier', GradientBoostingClassifier())\n",
    "]"
   ]
  },
  {
   "cell_type": "code",
   "execution_count": 27,
   "id": "fb3f6758",
   "metadata": {},
   "outputs": [
    {
     "name": "stdout",
     "output_type": "stream",
     "text": [
      "Best hyperparameters for LogisticRegression: {'max_iter': 1000}\n",
      "Validation accuracy for LogisticRegression: 0.9310465698547822\n",
      "Best hyperparameters for SVM: {'C': 10, 'kernel': 'rbf'}\n",
      "Validation accuracy for SVM: 0.94271407110666\n",
      "Best hyperparameters for DecisionTreeClassifier: {'max_depth': 15}\n",
      "Validation accuracy for DecisionTreeClassifier: 0.9406109163745618\n",
      "Best hyperparameters for KNeighborsClassifier: {'n_neighbors': 5}\n",
      "Validation accuracy for KNeighborsClassifier: 0.9385077616424637\n",
      "Best hyperparameters for GaussianNB: {}\n",
      "Validation accuracy for GaussianNB: 0.9339008512769154\n",
      "Best hyperparameters for RandomForestClassifier: {'n_estimators': 50}\n",
      "Validation accuracy for RandomForestClassifier: 0.9407110665998999\n",
      "Best hyperparameters for VotingClassifier: {}\n",
      "Validation accuracy for VotingClassifier: 0.9348022033049574\n",
      "Best hyperparameters for BaggingClassifier: {'n_estimators': 100}\n",
      "Validation accuracy for BaggingClassifier: 0.9408612919379069\n",
      "Best hyperparameters for AdaBoostClassifier: {'learning_rate': 0.1, 'n_estimators': 200}\n",
      "Validation accuracy for AdaBoostClassifier: 0.9317476214321482\n",
      "Best hyperparameters for GradientBoostingClassifier: {'learning_rate': 0.1, 'n_estimators': 50}\n",
      "Validation accuracy for GradientBoostingClassifier: 0.943314972458688\n"
     ]
    }
   ],
   "source": [
    "# shutil.rmtree('ml_saved_models')\n",
    "# os.mkdir('ml_saved_models')\n",
    "#os.mkdir('ml_saved_models/hyper')\n",
    "hyper_accuracies = {}\n",
    "# Loop through each model and perform hyperparameter tuning\n",
    "for name, model in models:    \n",
    "    # GridSearchCV for hyperparameter tuning\n",
    "    grid_search = GridSearchCV(model, param_grid.get(name, {}), cv=3, scoring='accuracy')\n",
    "    grid_search.fit(x_train, y_train)\n",
    "    \n",
    "    # Get the best model\n",
    "    best_model = grid_search.best_estimator_\n",
    "    \n",
    "    # Fit the best model on the entire training data\n",
    "    best_model.fit(x_train, y_train)\n",
    "    \n",
    "    y_pred = best_model.predict(x_test)\n",
    "    accuracy = accuracy_score(y_test, y_pred)\n",
    "    hyper_accuracies[name] = accuracy\n",
    "    best_params[name] = grid_search.best_params_\n",
    "    # Print the best hyperparameters and performance metrics\n",
    "    print(f\"Best hyperparameters for {name}: {grid_search.best_params_}\")\n",
    "    print(f\"Validation accuracy for {name}: {accuracy}\")\n",
    "    joblib.dump(best_model,f'ml_saved_models/hyper/{name}_hyper_22.pkl')"
   ]
  },
  {
   "cell_type": "code",
   "execution_count": null,
   "id": "9d5f2158",
   "metadata": {},
   "outputs": [],
   "source": []
  },
  {
   "cell_type": "code",
   "execution_count": 28,
   "id": "b09c8caf",
   "metadata": {},
   "outputs": [
    {
     "name": "stdout",
     "output_type": "stream",
     "text": [
      "accuracy scores of LogisticRegression : 0.9310465698547822\n",
      "accuracy scores of SVM : 0.94271407110666\n",
      "accuracy scores of DecisionTreeClassifier : 0.9406109163745618\n",
      "accuracy scores of KNeighborsClassifier : 0.9385077616424637\n",
      "accuracy scores of GaussianNB : 0.9339008512769154\n",
      "accuracy scores of RandomForestClassifier : 0.9407110665998999\n",
      "accuracy scores of VotingClassifier : 0.9348022033049574\n",
      "accuracy scores of BaggingClassifier : 0.9408612919379069\n",
      "accuracy scores of AdaBoostClassifier : 0.9317476214321482\n",
      "accuracy scores of GradientBoostingClassifier : 0.943314972458688\n"
     ]
    }
   ],
   "source": [
    "hyper_accuracies = {}\n",
    "for name,model in models:\n",
    "    model1 = joblib.load(f'ml_saved_models/hyper/{name}_hyper_22.pkl')\n",
    "    predict = model1.predict(x_test)\n",
    "    hyper_accuracies[name] = accuracy_score(y_test,predict)\n",
    "    print(f'accuracy scores of {name} : {hyper_accuracies[name]}')"
   ]
  },
  {
   "cell_type": "code",
   "execution_count": 29,
   "id": "9fce3e72",
   "metadata": {},
   "outputs": [
    {
     "data": {
      "text/html": [
       "<div>\n",
       "<style scoped>\n",
       "    .dataframe tbody tr th:only-of-type {\n",
       "        vertical-align: middle;\n",
       "    }\n",
       "\n",
       "    .dataframe tbody tr th {\n",
       "        vertical-align: top;\n",
       "    }\n",
       "\n",
       "    .dataframe thead th {\n",
       "        text-align: right;\n",
       "    }\n",
       "</style>\n",
       "<table border=\"1\" class=\"dataframe\">\n",
       "  <thead>\n",
       "    <tr style=\"text-align: right;\">\n",
       "      <th></th>\n",
       "      <th>model</th>\n",
       "      <th>hyper_accuracies</th>\n",
       "    </tr>\n",
       "  </thead>\n",
       "  <tbody>\n",
       "    <tr>\n",
       "      <th>0</th>\n",
       "      <td>LogisticRegression</td>\n",
       "      <td>0.931047</td>\n",
       "    </tr>\n",
       "    <tr>\n",
       "      <th>1</th>\n",
       "      <td>SVM</td>\n",
       "      <td>0.942714</td>\n",
       "    </tr>\n",
       "    <tr>\n",
       "      <th>2</th>\n",
       "      <td>DecisionTreeClassifier</td>\n",
       "      <td>0.940611</td>\n",
       "    </tr>\n",
       "    <tr>\n",
       "      <th>3</th>\n",
       "      <td>KNeighborsClassifier</td>\n",
       "      <td>0.938508</td>\n",
       "    </tr>\n",
       "    <tr>\n",
       "      <th>4</th>\n",
       "      <td>GaussianNB</td>\n",
       "      <td>0.933901</td>\n",
       "    </tr>\n",
       "    <tr>\n",
       "      <th>5</th>\n",
       "      <td>RandomForestClassifier</td>\n",
       "      <td>0.940711</td>\n",
       "    </tr>\n",
       "    <tr>\n",
       "      <th>6</th>\n",
       "      <td>VotingClassifier</td>\n",
       "      <td>0.934802</td>\n",
       "    </tr>\n",
       "    <tr>\n",
       "      <th>7</th>\n",
       "      <td>BaggingClassifier</td>\n",
       "      <td>0.940861</td>\n",
       "    </tr>\n",
       "    <tr>\n",
       "      <th>8</th>\n",
       "      <td>AdaBoostClassifier</td>\n",
       "      <td>0.931748</td>\n",
       "    </tr>\n",
       "    <tr>\n",
       "      <th>9</th>\n",
       "      <td>GradientBoostingClassifier</td>\n",
       "      <td>0.943315</td>\n",
       "    </tr>\n",
       "  </tbody>\n",
       "</table>\n",
       "</div>"
      ],
      "text/plain": [
       "                        model  hyper_accuracies\n",
       "0          LogisticRegression          0.931047\n",
       "1                         SVM          0.942714\n",
       "2      DecisionTreeClassifier          0.940611\n",
       "3        KNeighborsClassifier          0.938508\n",
       "4                  GaussianNB          0.933901\n",
       "5      RandomForestClassifier          0.940711\n",
       "6            VotingClassifier          0.934802\n",
       "7           BaggingClassifier          0.940861\n",
       "8          AdaBoostClassifier          0.931748\n",
       "9  GradientBoostingClassifier          0.943315"
      ]
     },
     "execution_count": 29,
     "metadata": {},
     "output_type": "execute_result"
    }
   ],
   "source": [
    "ml_hyper_accuracies = pd.DataFrame()\n",
    "ml_hyper_accuracies['model'] = list(hyper_accuracies.keys())\n",
    "ml_hyper_accuracies['hyper_accuracies'] = list(hyper_accuracies.values())\n",
    "ml_hyper_accuracies.to_csv('ml_saved_models/hyper/ml_Hyper_accuraciesV22.csv')\n",
    "ml_hyper_accuracies"
   ]
  },
  {
   "cell_type": "code",
   "execution_count": 41,
   "id": "5bf3c4ba",
   "metadata": {},
   "outputs": [
    {
     "data": {
      "text/html": [
       "<div>\n",
       "<style scoped>\n",
       "    .dataframe tbody tr th:only-of-type {\n",
       "        vertical-align: middle;\n",
       "    }\n",
       "\n",
       "    .dataframe tbody tr th {\n",
       "        vertical-align: top;\n",
       "    }\n",
       "\n",
       "    .dataframe thead th {\n",
       "        text-align: right;\n",
       "    }\n",
       "</style>\n",
       "<table border=\"1\" class=\"dataframe\">\n",
       "  <thead>\n",
       "    <tr style=\"text-align: right;\">\n",
       "      <th></th>\n",
       "      <th>model</th>\n",
       "      <th>hyper_accuracies</th>\n",
       "    </tr>\n",
       "  </thead>\n",
       "  <tbody>\n",
       "    <tr>\n",
       "      <th>9</th>\n",
       "      <td>GradientBoostingClassifier</td>\n",
       "      <td>0.943315</td>\n",
       "    </tr>\n",
       "    <tr>\n",
       "      <th>1</th>\n",
       "      <td>SVM</td>\n",
       "      <td>0.942714</td>\n",
       "    </tr>\n",
       "  </tbody>\n",
       "</table>\n",
       "</div>"
      ],
      "text/plain": [
       "                        model  hyper_accuracies\n",
       "9  GradientBoostingClassifier          0.943315\n",
       "1                         SVM          0.942714"
      ]
     },
     "execution_count": 41,
     "metadata": {},
     "output_type": "execute_result"
    }
   ],
   "source": [
    "ml_hyper_accuracies = ml_hyper_accuracies.sort_values(by = 'hyper_accuracies',ascending = False)\n",
    "ml_hyper_accuracies.head(2)"
   ]
  },
  {
   "cell_type": "code",
   "execution_count": null,
   "id": "0704feaa",
   "metadata": {},
   "outputs": [],
   "source": [
    "ml_best_params = pd.DataFrame()\n",
    "ml_best_params['model'] = list(best_params.keys())\n",
    "ml_best_params['best_params'] = list(best_params.values())\n",
    "ml_best_params.to_csv('ml_saved_models/hyper/ml_best_paramsV22.csv')\n",
    "ml_best_params"
   ]
  },
  {
   "cell_type": "code",
   "execution_count": null,
   "id": "0d3fe2d3",
   "metadata": {},
   "outputs": [],
   "source": []
  },
  {
   "cell_type": "code",
   "execution_count": null,
   "id": "8544705e",
   "metadata": {},
   "outputs": [],
   "source": []
  },
  {
   "cell_type": "code",
   "execution_count": 48,
   "id": "835aabd0",
   "metadata": {},
   "outputs": [
    {
     "data": {
      "image/png": "[encoded data removed]",
      "text/plain": [
       "<Figure size 2000x1000 with 1 Axes>"
      ]
     },
     "metadata": {},
     "output_type": "display_data"
    }
   ],
   "source": [
    "acc_data = pd.read_csv(\"ml_saved_models/normalV2.2/ml_accuracies_normalV22.csv\") \n",
    "acc_data = acc_data[['model','accuracies']]\n",
    "plt.figure(figsize=[20,10],dpi = 100)\n",
    "plt.title(' Train Accuracy Comparison')\n",
    "plt.xlabel('Train Accuracy')\n",
    "plt.ylabel('Algorithm')\n",
    "splot=sns.barplot(x=acc_data['model'],y=acc_data['accuracies'])\n",
    "for p in splot.patches:\n",
    "    splot.annotate(format(p.get_height(), '.4f'),\n",
    "                   (p.get_x() + p.get_width() / 2., p.get_height()), \n",
    "                   ha = 'center', va = 'center', \n",
    "                   xytext = (0, 9), \n",
    "                   textcoords = 'offset points')\n",
    "plt.show()"
   ]
  },
  {
   "cell_type": "code",
   "execution_count": 30,
   "id": "08c71db1",
   "metadata": {},
   "outputs": [
    {
     "data": {
      "image/png": "[encoded data removed]",
      "text/plain": [
       "<Figure size 2000x1000 with 1 Axes>"
      ]
     },
     "metadata": {},
     "output_type": "display_data"
    }
   ],
   "source": [
    "acc_data = pd.read_csv(\"ml_saved_models/hyper/ml_Hyper_accuraciesV22.csv\") \n",
    "acc_data = acc_data[['model','hyper_accuracies']]\n",
    "plt.figure(figsize=[20,10],dpi = 100)\n",
    "plt.title(' Train Tuned Accuracy Comparison')\n",
    "plt.xlabel('Train Tuned Accuracy')\n",
    "plt.ylabel('Algorithm')\n",
    "splot=sns.barplot(x=acc_data['model'],y=acc_data['hyper_accuracies'])\n",
    "for p in splot.patches:\n",
    "    splot.annotate(format(p.get_height(), '.4f'),\n",
    "                   (p.get_x() + p.get_width() / 2., p.get_height()), \n",
    "                   ha = 'center', va = 'center', \n",
    "                   xytext = (0, 9), \n",
    "                   textcoords = 'offset points')\n",
    "plt.show()"
   ]
  },
  {
   "cell_type": "code",
   "execution_count": 52,
   "id": "9b9f9f00",
   "metadata": {},
   "outputs": [
    {
     "data": {
      "text/plain": [
       "[('LogisticRegression', LogisticRegression(max_iter=1000)),\n",
       " ('SVM', SVC()),\n",
       " ('DecisionTreeClassifier', DecisionTreeClassifier()),\n",
       " ('KNeighborsClasscifier', KNeighborsClassifier()),\n",
       " ('GaussianNB', GaussianNB()),\n",
       " ('RandomForestClassifier', RandomForestClassifier()),\n",
       " ('VotingClassifier',\n",
       "  VotingClassifier(estimators=[('Random Forest', RandomForestClassifier()),\n",
       "                               ('Gradient Boosting',\n",
       "                                GradientBoostingClassifier()),\n",
       "                               ('SVM', SVC()),\n",
       "                               ('Logistic Regression',\n",
       "                                LogisticRegression(max_iter=1000))])),\n",
       " ('BaggingClassifier', BaggingClassifier()),\n",
       " ('AdaBoostClassifier', AdaBoostClassifier()),\n",
       " ('GradientBoostingClassifier', GradientBoostingClassifier())]"
      ]
     },
     "execution_count": 52,
     "metadata": {},
     "output_type": "execute_result"
    }
   ],
   "source": [
    "models"
   ]
  },
  {
   "cell_type": "code",
   "execution_count": 56,
   "id": "2fa48d10",
   "metadata": {},
   "outputs": [
    {
     "data": {
      "text/plain": [
       "array(['apple', 'arecanut', 'ashgourd', 'banana', 'barley', 'beetroot',\n",
       "       'bittergourd', 'blackgram', 'blackpepper', 'bottlegourd',\n",
       "       'brinjal', 'cabbage', 'cardamom', 'carrot', 'cashewnuts',\n",
       "       'cauliflower', 'coffee', 'coriander', 'cotton', 'cucumber',\n",
       "       'drumstick', 'garlic', 'ginger', 'grapes', 'horsegram',\n",
       "       'jackfruit', 'jowar', 'jute', 'ladyfinger', 'maize', 'mango',\n",
       "       'moong', 'onion', 'orange', 'papaya', 'pineapple', 'pomegranate',\n",
       "       'potato', 'pumpkin', 'radish', 'ragi', 'rapeseed', 'rice',\n",
       "       'ridgegourd', 'sesamum', 'soyabean', 'sunflower', 'sweetpotato',\n",
       "       'tapioca', 'tomato', 'turmeric', 'watermelon', 'wheat'],\n",
       "      dtype=object)"
      ]
     },
     "execution_count": 56,
     "metadata": {},
     "output_type": "execute_result"
    }
   ],
   "source": [
    "encoder.classes_"
   ]
  },
  {
   "cell_type": "code",
   "execution_count": 57,
   "id": "9da31cc1",
   "metadata": {},
   "outputs": [
    {
     "data": {
      "text/plain": [
       "array(['andaman and nicobar islands', 'andhra pradesh',\n",
       "       'arunachal pradesh', 'assam', 'bihar', 'chandigarh',\n",
       "       'chhattisgarh', 'dadra and nagar haveli', 'goa', 'gujarat',\n",
       "       'haryana', 'himachal pradesh', 'jammu and kashmir', 'jharkhand',\n",
       "       'karnataka', 'kerala', 'madhya pradesh', 'maharashtra', 'manipur',\n",
       "       'meghalaya', 'mizoram', 'nagaland', 'odisha', 'puducherry',\n",
       "       'punjab', 'rajasthan', 'sikkim', 'tamil nadu', 'telangana',\n",
       "       'tripura', 'uttar pradesh', 'uttarakhand', 'west bengal'],\n",
       "      dtype=object)"
      ]
     },
     "execution_count": 57,
     "metadata": {},
     "output_type": "execute_result"
    }
   ],
   "source": [
    "encoder2.classes_"
   ]
  },
  {
   "cell_type": "code",
   "execution_count": 58,
   "id": "00e0c69f",
   "metadata": {},
   "outputs": [
    {
     "data": {
      "text/plain": [
       "Index(['State_Name', 'N', 'P', 'K', 'pH', 'rainfall', 'temperature', 'Crop'], dtype='object')"
      ]
     },
     "execution_count": 58,
     "metadata": {},
     "output_type": "execute_result"
    }
   ],
   "source": [
    "df.columns"
   ]
  },
  {
   "cell_type": "code",
   "execution_count": 79,
   "id": "43ec31bb",
   "metadata": {},
   "outputs": [
    {
     "data": {
      "text/plain": [
       "array(['andaman and nicobar islands', 'andhra pradesh',\n",
       "       'arunachal pradesh', 'assam', 'bihar', 'chandigarh',\n",
       "       'chhattisgarh', 'dadra and nagar haveli', 'goa', 'gujarat',\n",
       "       'haryana', 'himachal pradesh', 'jammu and kashmir', 'jharkhand',\n",
       "       'karnataka', 'kerala', 'madhya pradesh', 'maharashtra', 'manipur',\n",
       "       'meghalaya', 'mizoram', 'nagaland', 'odisha', 'puducherry',\n",
       "       'punjab', 'rajasthan', 'sikkim', 'tamil nadu', 'telangana',\n",
       "       'tripura', 'uttar pradesh', 'uttarakhand', 'west bengal'],\n",
       "      dtype=object)"
      ]
     },
     "execution_count": 79,
     "metadata": {},
     "output_type": "execute_result"
    }
   ],
   "source": [
    "encoder2.classes_"
   ]
  },
  {
   "cell_type": "code",
   "execution_count": 84,
   "id": "e7394acc",
   "metadata": {},
   "outputs": [
    {
     "data": {
      "text/html": [
       "<div>\n",
       "<style scoped>\n",
       "    .dataframe tbody tr th:only-of-type {\n",
       "        vertical-align: middle;\n",
       "    }\n",
       "\n",
       "    .dataframe tbody tr th {\n",
       "        vertical-align: top;\n",
       "    }\n",
       "\n",
       "    .dataframe thead th {\n",
       "        text-align: right;\n",
       "    }\n",
       "</style>\n",
       "<table border=\"1\" class=\"dataframe\">\n",
       "  <thead>\n",
       "    <tr style=\"text-align: right;\">\n",
       "      <th></th>\n",
       "      <th>State_Name</th>\n",
       "      <th>N</th>\n",
       "      <th>P</th>\n",
       "      <th>K</th>\n",
       "      <th>pH</th>\n",
       "      <th>rainfall</th>\n",
       "      <th>temperature</th>\n",
       "    </tr>\n",
       "  </thead>\n",
       "  <tbody>\n",
       "    <tr>\n",
       "      <th>17726</th>\n",
       "      <td>0</td>\n",
       "      <td>100</td>\n",
       "      <td>40</td>\n",
       "      <td>140</td>\n",
       "      <td>5.86</td>\n",
       "      <td>1925.68</td>\n",
       "      <td>27.0</td>\n",
       "    </tr>\n",
       "  </tbody>\n",
       "</table>\n",
       "</div>"
      ],
      "text/plain": [
       "       State_Name    N   P    K    pH  rainfall  temperature\n",
       "17726           0  100  40  140  5.86   1925.68         27.0"
      ]
     },
     "execution_count": 84,
     "metadata": {},
     "output_type": "execute_result"
    }
   ],
   "source": [
    "X.head(1)"
   ]
  },
  {
   "cell_type": "code",
   "execution_count": 7,
   "id": "6db48965",
   "metadata": {},
   "outputs": [
    {
     "name": "stderr",
     "output_type": "stream",
     "text": [
      "C:\\Users\\RAMU GOPI\\anaconda3\\Lib\\site-packages\\sklearn\\base.py:464: UserWarning: X does not have valid feature names, but StandardScaler was fitted with feature names\n",
      "  warnings.warn(\n",
      "C:\\Users\\RAMU GOPI\\anaconda3\\Lib\\site-packages\\sklearn\\base.py:464: UserWarning: X does not have valid feature names, but StandardScaler was fitted with feature names\n",
      "  warnings.warn(\n",
      "C:\\Users\\RAMU GOPI\\anaconda3\\Lib\\site-packages\\sklearn\\base.py:464: UserWarning: X does not have valid feature names, but StandardScaler was fitted with feature names\n",
      "  warnings.warn(\n",
      "C:\\Users\\RAMU GOPI\\anaconda3\\Lib\\site-packages\\sklearn\\base.py:464: UserWarning: X does not have valid feature names, but StandardScaler was fitted with feature names\n",
      "  warnings.warn(\n",
      "C:\\Users\\RAMU GOPI\\anaconda3\\Lib\\site-packages\\sklearn\\base.py:464: UserWarning: X does not have valid feature names, but StandardScaler was fitted with feature names\n",
      "  warnings.warn(\n",
      "C:\\Users\\RAMU GOPI\\anaconda3\\Lib\\site-packages\\sklearn\\base.py:464: UserWarning: X does not have valid feature names, but StandardScaler was fitted with feature names\n",
      "  warnings.warn(\n"
     ]
    },
    {
     "name": "stdout",
     "output_type": "stream",
     "text": [
      "LogisticRegression  :  arecanut\n",
      "SVM  :  arecanut\n",
      "DecisionTreeClassifier  :  arecanut\n",
      "KNeighborsClassifier  :  arecanut\n",
      "GaussianNB  :  arecanut\n",
      "RandomForestClassifier  :  arecanut\n"
     ]
    },
    {
     "name": "stderr",
     "output_type": "stream",
     "text": [
      "C:\\Users\\RAMU GOPI\\anaconda3\\Lib\\site-packages\\sklearn\\base.py:464: UserWarning: X does not have valid feature names, but StandardScaler was fitted with feature names\n",
      "  warnings.warn(\n"
     ]
    },
    {
     "name": "stdout",
     "output_type": "stream",
     "text": [
      "VotingClassifier  :  arecanut\n",
      "BaggingClassifier  :  arecanut\n",
      "AdaBoostClassifier  :  rice\n"
     ]
    },
    {
     "name": "stderr",
     "output_type": "stream",
     "text": [
      "C:\\Users\\RAMU GOPI\\anaconda3\\Lib\\site-packages\\sklearn\\base.py:464: UserWarning: X does not have valid feature names, but StandardScaler was fitted with feature names\n",
      "  warnings.warn(\n",
      "C:\\Users\\RAMU GOPI\\anaconda3\\Lib\\site-packages\\sklearn\\base.py:464: UserWarning: X does not have valid feature names, but StandardScaler was fitted with feature names\n",
      "  warnings.warn(\n",
      "C:\\Users\\RAMU GOPI\\anaconda3\\Lib\\site-packages\\sklearn\\base.py:464: UserWarning: X does not have valid feature names, but StandardScaler was fitted with feature names\n",
      "  warnings.warn(\n"
     ]
    },
    {
     "name": "stdout",
     "output_type": "stream",
     "text": [
      "GradientBoostingClassifier  :  arecanut\n"
     ]
    }
   ],
   "source": [
    "import joblib,shutil,os\n",
    "from sklearn.preprocessing import StandardScaler\n",
    "crops = ['apple', 'arecanut', 'ashgourd', 'banana', 'barley', 'beetroot',\n",
    "       'bittergourd', 'blackgram', 'blackpepper', 'bottlegourd',\n",
    "       'brinjal', 'cabbage', 'cardamom', 'carrot', 'cashewnuts',\n",
    "       'cauliflower', 'coffee', 'coriander', 'cotton', 'cucumber',\n",
    "       'drumstick', 'garlic', 'ginger', 'grapes', 'horsegram',\n",
    "       'jackfruit', 'jowar', 'jute', 'ladyfinger', 'maize', 'mango',\n",
    "       'moong', 'onion', 'orange', 'papaya', 'pineapple', 'pomegranate',\n",
    "       'potato', 'pumpkin', 'radish', 'ragi', 'rapeseed', 'rice',\n",
    "       'ridgegourd', 'sesamum', 'soyabean', 'sunflower', 'sweetpotato',\n",
    "       'tapioca', 'tomato', 'turmeric', 'watermelon', 'wheat']\n",
    "states = ['andaman and nicobar islands', 'andhra pradesh',\n",
    "       'arunachal pradesh', 'assam', 'bihar', 'chandigarh',\n",
    "       'chhattisgarh', 'dadra and nagar haveli', 'goa', 'gujarat',\n",
    "       'haryana', 'himachal pradesh', 'jammu and kashmir', 'jharkhand',\n",
    "       'karnataka', 'kerala', 'madhya pradesh', 'maharashtra', 'manipur',\n",
    "       'meghalaya', 'mizoram', 'nagaland', 'odisha', 'puducherry',\n",
    "       'punjab', 'rajasthan', 'sikkim', 'tamil nadu', 'telangana',\n",
    "       'tripura', 'uttar pradesh', 'uttarakhand', 'west bengal']\n",
    "new_scaler = joblib.load('ml_saved_models/scalerV1.0.pkl')\n",
    "def prediction(model_name,new_data):\n",
    "    #temp = #extract temperature from state\n",
    "    new_data[0] = states.index(new_data[0])\n",
    "    new_data = new_scaler.transform([new_data])\n",
    "    new_data = new_data\n",
    "    model = joblib.load(f'ml_saved_models/normalV2.2/{model_name}_22.pkl')\n",
    "    crop = crops[model.predict(new_data)[0]]\n",
    "    return crop\n",
    "list_of_crops = []\n",
    "for name, model in models:\n",
    "    crop = prediction(name,['andaman and nicobar islands',100,40,140,5.86,1925.68,27.0])\n",
    "    list_of_crops.append(crop)\n",
    "    print(name,\" : \",crop)"
   ]
  },
  {
   "cell_type": "code",
   "execution_count": 133,
   "id": "1eb8edec",
   "metadata": {},
   "outputs": [
    {
     "name": "stdout",
     "output_type": "stream",
     "text": [
      "LogisticRegression  :  arecanut\n",
      "SVM  :  arecanut\n",
      "DecisionTreeClassifier  :  arecanut\n",
      "KNeighborsClassifier  :  arecanut\n",
      "GaussianNB  :  arecanut\n",
      "RandomForestClassifier  :  arecanut\n",
      "VotingClassifier  :  arecanut\n",
      "BaggingClassifier  :  arecanut\n",
      "AdaBoostClassifier  :  arecanut\n",
      "GradientBoostingClassifier  :  arecanut\n"
     ]
    }
   ],
   "source": [
    "def prediction(model_name,new_data):\n",
    "    #temp = #extract temperature from state\n",
    "    new_data[0] = states.index(new_data[0])\n",
    "    new_scaler = joblib.load('ml_saved_models/scalerV1.0.pkl')\n",
    "    new_data = new_scaler.transform([new_data])\n",
    "    new_data = new_data\n",
    "    model = joblib.load(f'ml_saved_models/hyper/{model_name}_hyper_22.pkl')\n",
    "    crop = crops[model.predict(new_data)[0]]\n",
    "    return crop\n",
    "for name, model in models:\n",
    "    crop = prediction(name,['andaman and nicobar islands',100,40,140,5.86,1925.68,27.0])\n",
    "    print(name,\" : \",crop)"
   ]
  },
  {
   "cell_type": "code",
   "execution_count": null,
   "id": "834cf263",
   "metadata": {},
   "outputs": [],
   "source": [
    "# import joblib,shutil,os\n",
    "# from sklearn.preprocessing import StandardScaler\n",
    "# crops = ['apple', 'arecanut', 'ashgourd', 'banana', 'barley', 'beetroot',\n",
    "#        'bittergourd', 'blackgram', 'blackpepper', 'bottlegourd',\n",
    "#        'brinjal', 'cabbage', 'cardamom', 'carrot', 'cashewnuts',\n",
    "#        'cauliflower', 'coffee', 'coriander', 'cotton', 'cucumber',\n",
    "#        'drumstick', 'garlic', 'ginger', 'grapes', 'horsegram',\n",
    "#        'jackfruit', 'jowar', 'jute', 'ladyfinger', 'maize', 'mango',\n",
    "#        'moong', 'onion', 'orange', 'papaya', 'pineapple', 'pomegranate',\n",
    "#        'potato', 'pumpkin', 'radish', 'ragi', 'rapeseed', 'rice',\n",
    "#        'ridgegourd', 'sesamum', 'soyabean', 'sunflower', 'sweetpotato',\n",
    "#        'tapioca', 'tomato', 'turmeric', 'watermelon', 'wheat']\n",
    "# states = ['andaman and nicobar islands', 'andhra pradesh',\n",
    "#        'arunachal pradesh', 'assam', 'bihar', 'chandigarh',\n",
    "#        'chhattisgarh', 'dadra and nagar haveli', 'goa', 'gujarat',\n",
    "#        'haryana', 'himachal pradesh', 'jammu and kashmir', 'jharkhand',\n",
    "#        'karnataka', 'kerala', 'madhya pradesh', 'maharashtra', 'manipur',\n",
    "#        'meghalaya', 'mizoram', 'nagaland', 'odisha', 'puducherry',\n",
    "#        'punjab', 'rajasthan', 'sikkim', 'tamil nadu', 'telangana',\n",
    "#        'tripura', 'uttar pradesh', 'uttarakhand', 'west bengal']\n",
    "# new_scaler = joblib.load('ml_saved_models/scalerV1.0.pkl')\n",
    "# def prediction(model_name,new_data):\n",
    "#     #temp = #extract temperature from state\n",
    "#     new_data[0] = states.index(new_data[0])\n",
    "#     new_data = new_scaler.transform([new_data])\n",
    "#     new_data = new_data\n",
    "#     model = joblib.load(f'ml_saved_models/normalV2.2/{model_name}_22.pkl')\n",
    "#     crop = crops[model.predict(new_data)[0]]\n",
    "#     return crop\n",
    "# list_of_crops = []\n",
    "# for name, model in models:\n",
    "#     crop = prediction(name,['andaman and nicobar islands',100,40,140,5.86,1925.68,27.0])\n",
    "#     list_of_crops.append(crop)\n",
    "#     print(name,\" : \",crop)"
   ]
  },
  {
   "cell_type": "code",
   "execution_count": 30,
   "id": "69c0edf6",
   "metadata": {},
   "outputs": [
    {
     "name": "stdout",
     "output_type": "stream",
     "text": [
      "[('LogisticRegression', LogisticRegression()), ('DecisionTreeClassifier', DecisionTreeClassifier()), ('KNeighborsClassifier', KNeighborsClassifier()), ('GaussianNB', GaussianNB()), ('RandomForestClassifier', RandomForestClassifier()), ('BaggingClassifier', BaggingClassifier()), ('AdaBoostClassifier', AdaBoostClassifier()), ('GradientBoostingClassifier', GradientBoostingClassifier())]\n"
     ]
    }
   ],
   "source": [
    "# List to store models supporting predict_proba\n",
    "models_with_proba = []\n",
    "\n",
    "# Check and add models supporting predict_proba to the list\n",
    "for name, model in models:\n",
    "    if hasattr(model, 'predict_proba'):\n",
    "        models_with_proba.append((name, model))\n",
    "\n",
    "# Access models_with_proba for further use\n",
    "print(models_with_proba)"
   ]
  },
  {
   "cell_type": "code",
   "execution_count": null,
   "id": "8b58ff79",
   "metadata": {},
   "outputs": [],
   "source": []
  },
  {
   "cell_type": "code",
   "execution_count": 156,
   "id": "f2b77225",
   "metadata": {
    "scrolled": false
   },
   "outputs": [],
   "source": [
    "import joblib,shutil,os\n",
    "from sklearn.preprocessing import StandardScaler\n",
    "\n",
    "crops = ['apple', 'arecanut', 'ashgourd', 'banana', 'barley', 'beetroot',\n",
    "       'bittergourd', 'blackgram', 'blackpepper', 'bottlegourd',\n",
    "       'brinjal', 'cabbage', 'cardamom', 'carrot', 'cashewnuts',\n",
    "       'cauliflower', 'coffee', 'coriander', 'cotton', 'cucumber',\n",
    "       'drumstick', 'garlic', 'ginger', 'grapes', 'horsegram',\n",
    "       'jackfruit', 'jowar', 'jute', 'ladyfinger', 'maize', 'mango',\n",
    "       'moong', 'onion', 'orange', 'papaya', 'pineapple', 'pomegranate',\n",
    "       'potato', 'pumpkin', 'radish', 'ragi', 'rapeseed', 'rice',\n",
    "       'ridgegourd', 'sesamum', 'soyabean', 'sunflower', 'sweetpotato',\n",
    "       'tapioca', 'tomato', 'turmeric', 'watermelon', 'wheat']\n",
    "states = ['andaman and nicobar islands', 'andhra pradesh',\n",
    "       'arunachal pradesh', 'assam', 'bihar', 'chandigarh',\n",
    "       'chhattisgarh', 'dadra and nagar haveli', 'goa', 'gujarat',\n",
    "       'haryana', 'himachal pradesh', 'jammu and kashmir', 'jharkhand',\n",
    "       'karnataka', 'kerala', 'madhya pradesh', 'maharashtra', 'manipur',\n",
    "       'meghalaya', 'mizoram', 'nagaland', 'odisha', 'puducherry',\n",
    "       'punjab', 'rajasthan', 'sikkim', 'tamil nadu', 'telangana',\n",
    "       'tripura', 'uttar pradesh', 'uttarakhand', 'west bengal']\n",
    "new_scaler = joblib.load('ml_saved_models/scalerV1.0.pkl')\n",
    "# Create a dictionary to store the total probabilities for each crop\n",
    "crop_probabilities = {crop: 0.0 for crop in crops}\n",
    "def ml_predict(new_data):\n",
    "    #new_data[0]  =states.index(list(new_data)[0])\n",
    "    new_data[0] = states.index(new_data[0])\n",
    "    new_data = new_scaler.transform([new_data])\n",
    "    new_data = new_data\n",
    "    # Loop through each model and accumulate prediction probabilities\n",
    "    for name, model_ in models_with_proba:\n",
    "        #new_data = ['andaman and nicobar islands',100,40,140,5.86,1925.68,27.0]\n",
    "        model = joblib.load(f'ml_saved_models/hyper/{name}_hyper_22.pkl')\n",
    "        probabilities = model.predict_proba(new_data)[0]\n",
    "        for idx, prob in enumerate(probabilities):\n",
    "            crop_probabilities[crops[idx]] += prob\n",
    "    # Calculate the average probabilities\n",
    "    total_models = len(models_with_proba)\n",
    "    average_probabilities = {crop: prob / total_models for crop, prob in crop_probabilities.items()}\n",
    "    # Find the crop with the highest average probability\n",
    "    most_probable_crop = max(average_probabilities, key=average_probabilities.get)\n",
    "    print(\"Most Probable Crop:\", most_probable_crop)\n",
    "    print(\"accuracy : \", max(average_probabilities.values()))\n",
    "#     print(\"top 5 crops: \",average_probabilities)\n",
    "#     Sort crops by their average probabilities in descending order\n",
    "#     sorted_crops = sorted(average_probabilities, key=average_probabilities.get, reverse=True)\n",
    "#     # Print the top 5 crops\n",
    "#     print(\"Top 5 Crops:\")\n",
    "#     for i, crop in enumerate(sorted_crops[:5], 1):\n",
    "#         print(f\"{i}. {crop} - Probability: {average_probabilities[crop]*100}\")"
   ]
  },
  {
   "cell_type": "code",
   "execution_count": 157,
   "id": "7de00aa8",
   "metadata": {},
   "outputs": [
    {
     "name": "stdout",
     "output_type": "stream",
     "text": [
      "Most Probable Crop: rice\n",
      "accuracy :  0.7770912981019891\n"
     ]
    }
   ],
   "source": [
    "new_data = [\"jammu and kashmir\",80,40,40,5.38,516.68,27.866667]\n",
    "#states.index(new_data[0])\n",
    "ml_predict(new_data)"
   ]
  },
  {
   "cell_type": "code",
   "execution_count": 158,
   "id": "610fa6e2",
   "metadata": {},
   "outputs": [
    {
     "name": "stdout",
     "output_type": "stream",
     "text": [
      "Most Probable Crop: wheat\n",
      "accuracy :  0.9757918460969002\n"
     ]
    }
   ],
   "source": [
    "\n",
    "new_data = [\"jammu and kashmir\",60,30,30,6.11,293.36,14.700000]\n",
    "#states.index(new_data[0])\n",
    "ml_predict(new_data)"
   ]
  },
  {
   "cell_type": "code",
   "execution_count": 159,
   "id": "e17b4ce1",
   "metadata": {},
   "outputs": [
    {
     "name": "stdout",
     "output_type": "stream",
     "text": [
      "Most Probable Crop: wheat\n",
      "accuracy :  0.9757923879394012\n"
     ]
    }
   ],
   "source": [
    "new_data = [\"assam\",120,60,65,6.12,2169.32,23.736364]\n",
    "#states.index(new_data[0])\n",
    "ml_predict(new_data)"
   ]
  },
  {
   "cell_type": "code",
   "execution_count": null,
   "id": "0c3612fb",
   "metadata": {},
   "outputs": [],
   "source": []
  },
  {
   "cell_type": "code",
   "execution_count": 152,
   "id": "30e1d321",
   "metadata": {},
   "outputs": [],
   "source": [
    "import joblib,shutil,os\n",
    "from sklearn.preprocessing import StandardScaler\n",
    "\n",
    "crops = ['apple', 'arecanut', 'ashgourd', 'banana', 'barley', 'beetroot',\n",
    "       'bittergourd', 'blackgram', 'blackpepper', 'bottlegourd',\n",
    "       'brinjal', 'cabbage', 'cardamom', 'carrot', 'cashewnuts',\n",
    "       'cauliflower', 'coffee', 'coriander', 'cotton', 'cucumber',\n",
    "       'drumstick', 'garlic', 'ginger', 'grapes', 'horsegram',\n",
    "       'jackfruit', 'jowar', 'jute', 'ladyfinger', 'maize', 'mango',\n",
    "       'moong', 'onion', 'orange', 'papaya', 'pineapple', 'pomegranate',\n",
    "       'potato', 'pumpkin', 'radish', 'ragi', 'rapeseed', 'rice',\n",
    "       'ridgegourd', 'sesamum', 'soyabean', 'sunflower', 'sweetpotato',\n",
    "       'tapioca', 'tomato', 'turmeric', 'watermelon', 'wheat']\n",
    "states = ['andaman and nicobar islands', 'andhra pradesh',\n",
    "       'arunachal pradesh', 'assam', 'bihar', 'chandigarh',\n",
    "       'chhattisgarh', 'dadra and nagar haveli', 'goa', 'gujarat',\n",
    "       'haryana', 'himachal pradesh', 'jammu and kashmir', 'jharkhand',\n",
    "       'karnataka', 'kerala', 'madhya pradesh', 'maharashtra', 'manipur',\n",
    "       'meghalaya', 'mizoram', 'nagaland', 'odisha', 'puducherry',\n",
    "       'punjab', 'rajasthan', 'sikkim', 'tamil nadu', 'telangana',\n",
    "       'tripura', 'uttar pradesh', 'uttarakhand', 'west bengal']\n",
    "new_scaler = joblib.load('ml_saved_models/scalerV1.0.pkl')\n",
    "# Create a dictionary to store the total probabilities for each crop\n",
    "crop_probabilities = {crop: 0.0 for crop in crops}\n",
    "def ml_predict(new_data):\n",
    "    #new_data[0]  =states.index(list(new_data)[0])\n",
    "    new_data[0] = states.index(new_data[0])\n",
    "    new_data = new_scaler.transform([new_data])\n",
    "    new_data = new_data\n",
    "    # Loop through each model and accumulate prediction probabilities\n",
    "    for name, model_ in models_with_proba:\n",
    "        #new_data = ['andaman and nicobar islands',100,40,140,5.86,1925.68,27.0]\n",
    "        model = joblib.load(f'ml_saved_models/hyper/{name}_hyper_22.pkl')\n",
    "        probabilities = model.predict_proba(new_data)[0]\n",
    "        for idx, prob in enumerate(probabilities):\n",
    "            crop_probabilities[crops[idx]] += prob\n",
    "    # Calculate the average probabilities\n",
    "    total_models = len(models_with_proba)\n",
    "    average_probabilities = {crop: prob / total_models for crop, prob in crop_probabilities.items()}\n",
    "\n",
    "    # ... (previous code remains the same)\n",
    "\n",
    "    # Calculate the total sum of probabilities\n",
    "    total_sum = sum(average_probabilities.values())\n",
    "\n",
    "    # Normalize the probabilities to ensure they sum up to 1\n",
    "    normalized_probabilities = {crop: prob / total_sum for crop, prob in average_probabilities.items()}\n",
    "\n",
    "    # Find the crop with the highest normalized probability\n",
    "    most_probable_crop = max(normalized_probabilities, key=normalized_probabilities.get)\n",
    "    print(\"Most Probable Crop:\", most_probable_crop)\n",
    "\n",
    "    # Sort crops by their normalized probabilities in descending order\n",
    "    sorted_crops = sorted(normalized_probabilities, key=normalized_probabilities.get, reverse=True)\n",
    "\n",
    "    # Print the top 5 crops\n",
    "    print(\"Top 5 Crops:\")\n",
    "    for i, crop in enumerate(sorted_crops[:5], 1):\n",
    "        print(f\"{i}. {crop} - Probability: {normalized_probabilities[crop]*100}\")\n"
   ]
  },
  {
   "cell_type": "code",
   "execution_count": 150,
   "id": "378f7270",
   "metadata": {
    "scrolled": true
   },
   "outputs": [
    {
     "name": "stdout",
     "output_type": "stream",
     "text": [
      "Most Probable Crop: onion\n",
      "Top 5 Crops:\n",
      "1. onion - Probability: 89.74243443419871\n",
      "2. cabbage - Probability: 2.1045157494974753\n",
      "3. pineapple - Probability: 1.4394212770760477\n",
      "4. tomato - Probability: 1.4171270261571234\n",
      "5. beetroot - Probability: 1.1275906755351055\n"
     ]
    }
   ],
   "source": [
    "new_data = [\"assam\",120,60,65,6.12,2169.32,23.736364]\n",
    "#states.index(new_data[0])\n",
    "ml_predict(new_data)"
   ]
  },
  {
   "cell_type": "code",
   "execution_count": 155,
   "id": "8192ee56",
   "metadata": {},
   "outputs": [
    {
     "name": "stdout",
     "output_type": "stream",
     "text": [
      "Most Probable Crop: arecanut\n",
      "Top 5 Crops:\n",
      "1. arecanut - Probability: 90.113729033329\n",
      "2. tomato - Probability: 2.535803811039332\n",
      "3. pineapple - Probability: 1.7745960131489804\n",
      "4. cabbage - Probability: 1.3241351713465364\n",
      "5. onion - Probability: 1.1608852394740052\n"
     ]
    }
   ],
   "source": [
    "new_data = ['andaman and nicobar islands',100,40,140,5.86,1925.68,27.0]\n",
    "#states.index(new_data[0])\n",
    "ml_predict(new_data)"
   ]
  },
  {
   "cell_type": "code",
   "execution_count": null,
   "id": "39ad071a",
   "metadata": {},
   "outputs": [],
   "source": []
  },
  {
   "cell_type": "code",
   "execution_count": null,
   "id": "5ef711cb",
   "metadata": {},
   "outputs": [],
   "source": []
  },
  {
   "cell_type": "code",
   "execution_count": null,
   "id": "fc089a6b",
   "metadata": {},
   "outputs": [],
   "source": []
  }
 ],
 "metadata": {
  "kernelspec": {
   "display_name": "Python 3 (ipykernel)",
   "language": "python",
   "name": "python3"
  },
  "language_info": {
   "codemirror_mode": {
    "name": "ipython",
    "version": 3
   },
   "file_extension": ".py",
   "mimetype": "text/x-python",
   "name": "python",
   "nbconvert_exporter": "python",
   "pygments_lexer": "ipython3",
   "version": "3.11.5"
  }
 },
 "nbformat": 4,
 "nbformat_minor": 5
}
